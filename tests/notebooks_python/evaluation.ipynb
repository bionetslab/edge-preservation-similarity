{
 "cells": [
  {
   "cell_type": "code",
   "execution_count": 1,
   "metadata": {},
   "outputs": [],
   "source": [
    "\"\"\"\n",
    "Created on Apr 2022\n",
    "\n",
    "@authors: jkiederle\n",
    "\"\"\"\n",
    "\n",
    "from sklearn.metrics.cluster import normalized_mutual_info_score, mutual_info_score, adjusted_mutual_info_score\n",
    "from numpy import linalg as LA\n",
    "import pandas as pd\n",
    "import numpy as np\n",
    "import matplotlib.pyplot as plt"
   ]
  },
  {
   "cell_type": "code",
   "execution_count": 34,
   "metadata": {},
   "outputs": [],
   "source": [
    "df_matrix_approx_entire = pd.read_csv (r'fixed_df_matrix_approx_entire.csv', index_col=0)\n",
    "df_matrix_gurobi_entire = pd.read_csv (r'fixed_df_matrix_gurobi_entire.csv', index_col=0)\n",
    "df_tree_edit = pd.read_csv(r'df_tree_edit_similarity.csv', index_col=0)\n",
    "df_functional_matrix = pd.read_csv(r'functional_similarity_GO.csv', index_col=0)"
   ]
  },
  {
   "cell_type": "code",
   "execution_count": 35,
   "metadata": {},
   "outputs": [],
   "source": [
    "cropped_functional = df_functional_matrix[df_matrix_approx_entire.index].loc[df_matrix_approx_entire.index]"
   ]
  },
  {
   "cell_type": "code",
   "execution_count": 17,
   "metadata": {},
   "outputs": [],
   "source": [
    "np_gurobi_entire_flat = df_matrix_gurobi_entire.to_numpy().flatten()\n",
    "np_approx_entire_flat = df_matrix_approx_entire.to_numpy().flatten()\n",
    "np_tree_edit_flat = df_tree_edit.to_numpy().flatten()\n",
    "np_crop_func_flat = cropped_functional.to_numpy().flatten()\n",
    "\n",
    "dist_approx = df_matrix_approx_entire.to_numpy() - cropped_functional.to_numpy()\n",
    "dist_gurobi = df_matrix_gurobi_entire.to_numpy() - cropped_functional.to_numpy()\n",
    "dist_tree_edit = df_tree_edit.to_numpy() - cropped_functional.to_numpy()"
   ]
  },
  {
   "cell_type": "code",
   "execution_count": 18,
   "metadata": {},
   "outputs": [],
   "source": [
    "norm_mi_approx = normalized_mutual_info_score(np_approx_entire_flat, np_crop_func_flat)\n",
    "adjusted_mi_approx = adjusted_mutual_info_score(np_approx_entire_flat, np_crop_func_flat)\n",
    "mi_approx = mutual_info_score(np_approx_entire_flat, np_crop_func_flat)"
   ]
  },
  {
   "cell_type": "code",
   "execution_count": 19,
   "metadata": {},
   "outputs": [],
   "source": [
    "norm_mi_gurobi = normalized_mutual_info_score(np_gurobi_entire_flat, np_crop_func_flat)\n",
    "adjusted_mi_gurobi = adjusted_mutual_info_score(np_gurobi_entire_flat, np_crop_func_flat)\n",
    "mi_gurobi = mutual_info_score(np_gurobi_entire_flat, np_crop_func_flat)"
   ]
  },
  {
   "cell_type": "code",
   "execution_count": 20,
   "metadata": {},
   "outputs": [],
   "source": [
    "norm_mi_tree_edit = normalized_mutual_info_score(np_tree_edit_flat, np_crop_func_flat)\n",
    "adjusted_mi_tree_edit = adjusted_mutual_info_score(np_tree_edit_flat, np_crop_func_flat)\n",
    "mi_tree_edit = mutual_info_score(np_tree_edit_flat, np_crop_func_flat)"
   ]
  },
  {
   "cell_type": "code",
   "execution_count": 21,
   "metadata": {},
   "outputs": [],
   "source": [
    "corr_approx = np.corrcoef(np_approx_entire_flat,np_crop_func_flat)[0,1]\n",
    "corr_gurobi = np.corrcoef(np_gurobi_entire_flat,np_crop_func_flat)[0,1]\n",
    "corr_tree_edit = np.corrcoef(np_tree_edit_flat,np_crop_func_flat)[0,1]"
   ]
  },
  {
   "cell_type": "code",
   "execution_count": 22,
   "metadata": {},
   "outputs": [],
   "source": [
    "frobenius_approx = LA.norm(dist_approx)\n",
    "frobenius_gurobi = LA.norm(dist_gurobi)\n",
    "frobenius_tree_edit = LA.norm(dist_tree_edit)"
   ]
  },
  {
   "cell_type": "code",
   "execution_count": 23,
   "metadata": {},
   "outputs": [],
   "source": [
    "summary_df = pd.DataFrame(np.array([[mi_approx, mi_gurobi, mi_tree_edit], [norm_mi_approx, norm_mi_gurobi, norm_mi_tree_edit], [adjusted_mi_approx, adjusted_mi_gurobi, adjusted_mi_tree_edit], [corr_approx, corr_gurobi, corr_tree_edit], [frobenius_approx, frobenius_gurobi, frobenius_tree_edit]]), columns=['approx', 'gurobi', 'tree edit'], index=['mi', 'normalized mi', 'adjusted mi', 'correlation coeff', 'frobenius of dist'])"
   ]
  },
  {
   "cell_type": "code",
   "execution_count": 24,
   "metadata": {},
   "outputs": [
    {
     "data": {
      "text/html": [
       "<div>\n",
       "<style scoped>\n",
       "    .dataframe tbody tr th:only-of-type {\n",
       "        vertical-align: middle;\n",
       "    }\n",
       "\n",
       "    .dataframe tbody tr th {\n",
       "        vertical-align: top;\n",
       "    }\n",
       "\n",
       "    .dataframe thead th {\n",
       "        text-align: right;\n",
       "    }\n",
       "</style>\n",
       "<table border=\"1\" class=\"dataframe\">\n",
       "  <thead>\n",
       "    <tr style=\"text-align: right;\">\n",
       "      <th></th>\n",
       "      <th>approx</th>\n",
       "      <th>gurobi</th>\n",
       "      <th>tree edit</th>\n",
       "    </tr>\n",
       "  </thead>\n",
       "  <tbody>\n",
       "    <tr>\n",
       "      <th>mi</th>\n",
       "      <td>0.021171</td>\n",
       "      <td>0.029058</td>\n",
       "      <td>0.104970</td>\n",
       "    </tr>\n",
       "    <tr>\n",
       "      <th>normalized mi</th>\n",
       "      <td>0.011517</td>\n",
       "      <td>0.014430</td>\n",
       "      <td>0.042055</td>\n",
       "    </tr>\n",
       "    <tr>\n",
       "      <th>adjusted mi</th>\n",
       "      <td>0.008014</td>\n",
       "      <td>0.010401</td>\n",
       "      <td>0.035793</td>\n",
       "    </tr>\n",
       "    <tr>\n",
       "      <th>correlation coeff</th>\n",
       "      <td>0.132672</td>\n",
       "      <td>0.120689</td>\n",
       "      <td>0.247642</td>\n",
       "    </tr>\n",
       "    <tr>\n",
       "      <th>frobenius of dist</th>\n",
       "      <td>1466.148355</td>\n",
       "      <td>2175.703564</td>\n",
       "      <td>9239.195311</td>\n",
       "    </tr>\n",
       "  </tbody>\n",
       "</table>\n",
       "</div>"
      ],
      "text/plain": [
       "                        approx       gurobi    tree edit\n",
       "mi                    0.021171     0.029058     0.104970\n",
       "normalized mi         0.011517     0.014430     0.042055\n",
       "adjusted mi           0.008014     0.010401     0.035793\n",
       "correlation coeff     0.132672     0.120689     0.247642\n",
       "frobenius of dist  1466.148355  2175.703564  9239.195311"
      ]
     },
     "execution_count": 24,
     "metadata": {},
     "output_type": "execute_result"
    }
   ],
   "source": [
    "summary_df"
   ]
  },
  {
   "cell_type": "code",
   "execution_count": 25,
   "metadata": {},
   "outputs": [],
   "source": [
    "##### now normalized ####"
   ]
  },
  {
   "cell_type": "code",
   "execution_count": 37,
   "metadata": {},
   "outputs": [],
   "source": [
    "df_approx = pd.read_csv (r'normalized_approx.csv', index_col=0)\n",
    "df_gurobi = pd.read_csv (r'normalized_gurobi.csv', index_col=0)\n",
    "df_tree_edit = pd.read_csv(r'df_tree_edit_similarity.csv', index_col=0)         \n",
    "df_functional_matrix = pd.read_csv(r'functional_similarity_GO.csv', index_col=0)"
   ]
  },
  {
   "cell_type": "code",
   "execution_count": null,
   "metadata": {},
   "outputs": [],
   "source": []
  },
  {
   "cell_type": "code",
   "execution_count": 38,
   "metadata": {},
   "outputs": [],
   "source": [
    "cropped_functional = df_functional_matrix[df_matrix_approx_entire.index].loc[df_matrix_approx_entire.index]"
   ]
  },
  {
   "cell_type": "code",
   "execution_count": 39,
   "metadata": {},
   "outputs": [],
   "source": [
    "np_gurobi = df_gurobi.to_numpy().flatten()\n",
    "np_approx = df_approx.to_numpy().flatten()\n",
    "np_tree_edit_flat = df_tree_edit.to_numpy().flatten()\n",
    "np_crop_func_flat = cropped_functional.to_numpy().flatten()\n",
    "\n",
    "dist_approx = df_approx.to_numpy() - cropped_functional.to_numpy()\n",
    "dist_gurobi = df_gurobi.to_numpy() - cropped_functional.to_numpy()\n",
    "dist_tree_edit = df_tree_edit.to_numpy() - cropped_functional.to_numpy()"
   ]
  },
  {
   "cell_type": "code",
   "execution_count": 44,
   "metadata": {},
   "outputs": [
    {
     "name": "stderr",
     "output_type": "stream",
     "text": [
      "/home/jana/anaconda3/lib/python3.8/site-packages/sklearn/metrics/cluster/_supervised.py:58: UserWarning: Clustering metrics expects discrete values but received continuous values for label, and binary values for target\n",
      "  warnings.warn(msg, UserWarning)\n",
      "/home/jana/anaconda3/lib/python3.8/site-packages/sklearn/metrics/cluster/_supervised.py:58: UserWarning: Clustering metrics expects discrete values but received continuous values for label, and binary values for target\n",
      "  warnings.warn(msg, UserWarning)\n",
      "/home/jana/anaconda3/lib/python3.8/site-packages/sklearn/metrics/cluster/_supervised.py:58: UserWarning: Clustering metrics expects discrete values but received continuous values for label, and binary values for target\n",
      "  warnings.warn(msg, UserWarning)\n",
      "/home/jana/anaconda3/lib/python3.8/site-packages/sklearn/metrics/cluster/_supervised.py:58: UserWarning: Clustering metrics expects discrete values but received continuous values for label, and binary values for target\n",
      "  warnings.warn(msg, UserWarning)\n",
      "/home/jana/anaconda3/lib/python3.8/site-packages/sklearn/metrics/cluster/_supervised.py:58: UserWarning: Clustering metrics expects discrete values but received continuous values for label, and binary values for target\n",
      "  warnings.warn(msg, UserWarning)\n",
      "/home/jana/anaconda3/lib/python3.8/site-packages/sklearn/metrics/cluster/_supervised.py:58: UserWarning: Clustering metrics expects discrete values but received continuous values for label, and binary values for target\n",
      "  warnings.warn(msg, UserWarning)\n"
     ]
    }
   ],
   "source": [
    "norm_mi_approx = normalized_mutual_info_score(np_approx, np_crop_func_flat)\n",
    "adjusted_mi_approx = adjusted_mutual_info_score(np_approx, np_crop_func_flat)\n",
    "mi_approx = mutual_info_score(np_approx, np_crop_func_flat)\n",
    "\n",
    "norm_mi_gurobi = normalized_mutual_info_score(np_gurobi, np_crop_func_flat)\n",
    "adjusted_mi_gurobi = adjusted_mutual_info_score(np_gurobi, np_crop_func_flat)\n",
    "mi_gurobi = mutual_info_score(np_gurobi, np_crop_func_flat)\n",
    "\n",
    "norm_mi_tree_edit = normalized_mutual_info_score(np_tree_edit_flat, np_crop_func_flat)\n",
    "adjusted_mi_tree_edit = adjusted_mutual_info_score(np_tree_edit_flat, np_crop_func_flat)\n",
    "mi_tree_edit = mutual_info_score(np_tree_edit_flat, np_crop_func_flat)\n",
    "\n",
    "corr_approx = np.corrcoef(np_approx,np_crop_func_flat)[0,1]\n",
    "corr_gurobi = np.corrcoef(np_gurobi,np_crop_func_flat)[0,1]\n",
    "corr_tree_edit = np.corrcoef(np_tree_edit_flat,np_crop_func_flat)[0,1]\n",
    "\n",
    "frobenius_approx = LA.norm(dist_approx)\n",
    "frobenius_gurobi = LA.norm(dist_gurobi)\n",
    "frobenius_tree_edit = LA.norm(dist_tree_edit)"
   ]
  },
  {
   "cell_type": "code",
   "execution_count": 42,
   "metadata": {},
   "outputs": [],
   "source": [
    "summary_df = pd.DataFrame(np.array([[mi_approx, mi_gurobi, mi_tree_edit], [norm_mi_approx, norm_mi_gurobi, norm_mi_tree_edit], [adjusted_mi_approx, adjusted_mi_gurobi, adjusted_mi_tree_edit], [corr_approx, corr_gurobi, corr_tree_edit], [frobenius_approx, frobenius_gurobi, frobenius_tree_edit]]), columns=['approx', 'gurobi', 'tree edit'], index=['mi', 'normalized mi', 'adjusted mi', 'correlation coeff', 'frobenius of dist'])"
   ]
  },
  {
   "cell_type": "code",
   "execution_count": 43,
   "metadata": {},
   "outputs": [
    {
     "data": {
      "text/html": [
       "<div>\n",
       "<style scoped>\n",
       "    .dataframe tbody tr th:only-of-type {\n",
       "        vertical-align: middle;\n",
       "    }\n",
       "\n",
       "    .dataframe tbody tr th {\n",
       "        vertical-align: top;\n",
       "    }\n",
       "\n",
       "    .dataframe thead th {\n",
       "        text-align: right;\n",
       "    }\n",
       "</style>\n",
       "<table border=\"1\" class=\"dataframe\">\n",
       "  <thead>\n",
       "    <tr style=\"text-align: right;\">\n",
       "      <th></th>\n",
       "      <th>approx</th>\n",
       "      <th>gurobi</th>\n",
       "      <th>tree edit</th>\n",
       "    </tr>\n",
       "  </thead>\n",
       "  <tbody>\n",
       "    <tr>\n",
       "      <th>mi</th>\n",
       "      <td>0.195201</td>\n",
       "      <td>0.234876</td>\n",
       "      <td>0.104970</td>\n",
       "    </tr>\n",
       "    <tr>\n",
       "      <th>normalized mi</th>\n",
       "      <td>0.060726</td>\n",
       "      <td>0.070811</td>\n",
       "      <td>0.042055</td>\n",
       "    </tr>\n",
       "    <tr>\n",
       "      <th>adjusted mi</th>\n",
       "      <td>0.040633</td>\n",
       "      <td>0.048536</td>\n",
       "      <td>0.035793</td>\n",
       "    </tr>\n",
       "    <tr>\n",
       "      <th>correlation coeff</th>\n",
       "      <td>0.286788</td>\n",
       "      <td>0.289271</td>\n",
       "      <td>0.247642</td>\n",
       "    </tr>\n",
       "    <tr>\n",
       "      <th>frobenius of dist</th>\n",
       "      <td>26.486498</td>\n",
       "      <td>26.332980</td>\n",
       "      <td>9239.195311</td>\n",
       "    </tr>\n",
       "  </tbody>\n",
       "</table>\n",
       "</div>"
      ],
      "text/plain": [
       "                      approx     gurobi    tree edit\n",
       "mi                  0.195201   0.234876     0.104970\n",
       "normalized mi       0.060726   0.070811     0.042055\n",
       "adjusted mi         0.040633   0.048536     0.035793\n",
       "correlation coeff   0.286788   0.289271     0.247642\n",
       "frobenius of dist  26.486498  26.332980  9239.195311"
      ]
     },
     "execution_count": 43,
     "metadata": {},
     "output_type": "execute_result"
    }
   ],
   "source": [
    "summary_df"
   ]
  },
  {
   "cell_type": "code",
   "execution_count": null,
   "metadata": {},
   "outputs": [],
   "source": [
    "####   empiric approx ratios ####"
   ]
  },
  {
   "cell_type": "code",
   "execution_count": 61,
   "metadata": {},
   "outputs": [],
   "source": [
    "ratios = np_gurobi / np_approx"
   ]
  },
  {
   "cell_type": "code",
   "execution_count": 62,
   "metadata": {},
   "outputs": [
    {
     "data": {
      "image/png": "[encoded data removed]",
      "text/plain": [
       "<Figure size 720x504 with 1 Axes>"
      ]
     },
     "metadata": {
      "needs_background": "light"
     },
     "output_type": "display_data"
    }
   ],
   "source": [
    "fig = plt.figure(figsize =(10, 7))\n",
    " \n",
    "# Creating plot\n",
    "plt.boxplot(ratios)\n",
    " \n",
    "# show plot\n",
    "plt.show()"
   ]
  },
  {
   "cell_type": "code",
   "execution_count": null,
   "metadata": {},
   "outputs": [],
   "source": [
    "#### boxplots for scalability test ###"
   ]
  },
  {
   "cell_type": "code",
   "execution_count": 10,
   "metadata": {},
   "outputs": [],
   "source": [
    "\n",
    "\n",
    "def get_times_dict(algorithm, algorithm_small):\n",
    "    times_dict = {}\n",
    "    for max_n in [20,40]:\n",
    "        path = \"/home/jana/Documents/BIONETs/Code/tree_match_approx_validator/final_results_data/results/scalability_\" + algorithm_small + \"/\" + str(max_n) + \"_results_\" + algorithm + \"_Mar_30_2022-22_58/df_times_\" + algorithm + \".csv\"\n",
    "        df = pd.read_csv(path, index_col=0)\n",
    "        df_np = df.to_numpy()\n",
    "        block_times = df_np[df_np>0]\n",
    "        times_dict[str(max_n)] = block_times\n",
    "    return times_dict"
   ]
  },
  {
   "cell_type": "code",
   "execution_count": 11,
   "metadata": {},
   "outputs": [],
   "source": [
    "algorithm_small = 'gurobi'  #change name if called differently\n",
    "algorithm = \"GUROBI\"\n",
    "times_dict = get_times_dict(algorithm, algorithm_small)\n"
   ]
  },
  {
   "cell_type": "code",
   "execution_count": 12,
   "metadata": {},
   "outputs": [
    {
     "data": {
      "image/png": "[encoded data removed]",
      "text/plain": [
       "<Figure size 432x288 with 1 Axes>"
      ]
     },
     "metadata": {
      "needs_background": "light"
     },
     "output_type": "display_data"
    }
   ],
   "source": [
    "fig, ax = plt.subplots()\n",
    "fig.suptitle(algorithm)\n",
    "ax.boxplot(times_dict.values())\n",
    "ax.set_xticklabels(times_dict.keys())\n",
    "plt.show()"
   ]
  }
 ],
 "metadata": {
  "interpreter": {
   "hash": "4862d528bf816ef908eb0bb3ad51732bf6298ed116c9b5b551b80ecc2d3623f7"
  },
  "kernelspec": {
   "display_name": "Python 3.8.8 64-bit ('base': conda)",
   "language": "python",
   "name": "python3"
  },
  "language_info": {
   "codemirror_mode": {
    "name": "ipython",
    "version": 3
   },
   "file_extension": ".py",
   "mimetype": "text/x-python",
   "name": "python",
   "nbconvert_exporter": "python",
   "pygments_lexer": "ipython3",
   "version": "3.8.8"
  },
  "orig_nbformat": 4
 },
 "nbformat": 4,
 "nbformat_minor": 2
}
