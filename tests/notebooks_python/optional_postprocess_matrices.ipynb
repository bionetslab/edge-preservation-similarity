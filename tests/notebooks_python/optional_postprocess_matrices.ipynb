{
 "cells": [
  {
   "cell_type": "code",
   "execution_count": 8,
   "metadata": {},
   "outputs": [],
   "source": [
    "\"\"\"\n",
    "Created on Apr 2022\n",
    "\n",
    "@authors: jkiederle\n",
    "\"\"\"\n",
    "\n",
    "import numpy as np\n",
    "import pandas as pd"
   ]
  },
  {
   "cell_type": "code",
   "execution_count": null,
   "metadata": {},
   "outputs": [],
   "source": [
    "#sort matrix by row and col indices for easier comparison\n",
    "def sort_matrix(df):\n",
    "    df.sort_index(key=lambda x: (x.to_series().str[3:].astype(int)), axis = 0, inplace=True)\n",
    "    df.sort_index(key=lambda x: (x.to_series().str[3:].astype(int)), axis = 1, inplace=True)"
   ]
  },
  {
   "cell_type": "code",
   "execution_count": 2,
   "metadata": {},
   "outputs": [],
   "source": [
    "#gets distance matrix and returns similarity matrix\n",
    "\n",
    "def dist_to_similarity_matrix(matrix_df):\n",
    "    matrix_np = matrix_df.to_numpy()\n",
    "    max_df = matrix_np.max()\n",
    "    sim_np = max_df - matrix_np\n",
    "\n",
    "    matrix_df.index.name = None\n",
    "    index_m = matrix_df.index\n",
    "\n",
    "    sim_df = pd.DataFrame(data=sim_np, index=index_m, columns=index_m)\n",
    "    \n",
    "    sort_matrix(sim_df)\n",
    "    \n",
    "    return sim_df"
   ]
  },
  {
   "cell_type": "code",
   "execution_count": null,
   "metadata": {},
   "outputs": [],
   "source": [
    "def sim_to_distance_matrix(matrix_df):\n",
    "\n",
    "    matrix_np = matrix_df.to_numpy()\n",
    "    max_df = matrix_np.max()\n",
    "    print(max_df)\n",
    "    dist_np = max_df - matrix_np\n",
    "\n",
    "    matrix_df.index.name = None\n",
    "    index_m = matrix_df.index\n",
    "\n",
    "    dist_df = pd.DataFrame(data=dist_np, index=index_m, columns=index_m)\n",
    "    \n",
    "    sort_matrix(dist_df)\n",
    "    \n",
    "    return dist_df"
   ]
  },
  {
   "cell_type": "code",
   "execution_count": null,
   "metadata": {},
   "outputs": [],
   "source": []
  },
  {
   "cell_type": "code",
   "execution_count": 5,
   "metadata": {},
   "outputs": [],
   "source": [
    "#helper functions for computing functional similarity matrix based on GO terms\n",
    "\n",
    "import itertools\n",
    "\n",
    "def compute_jaccard_matrix(df):\n",
    "    # Iterate through columns and compute jaccard index\n",
    "\n",
    "    sim_df = pd.DataFrame(columns=df.columns, index=df.columns)\n",
    "    for col_pair in itertools.combinations(df.columns, 2):\n",
    "        u1= col_pair[0]\n",
    "        u2 = col_pair[1]\n",
    "        sim_df.loc[col_pair] = compute_jaccard(set(df[u1].dropna()), set(df[u2].dropna()))\n",
    "    \n",
    "    for i in sim_df.index:\n",
    "        sim_df[i].loc[i] = 1.0\n",
    "    \n",
    "    return sim_df\n",
    "\n",
    "\n",
    "def compute_jaccard(user1_vals, user2_vals):\n",
    "    intersection = user1_vals.intersection(user2_vals)\n",
    "    union = user1_vals.union(user2_vals)\n",
    "    if float(len(union)) == 0 or len(user1_vals) == 0 or len(user2_vals) == 0:\n",
    "        return 0.0\n",
    "    jaccard = len(intersection)/float(len(union))\n",
    "    return jaccard"
   ]
  },
  {
   "cell_type": "code",
   "execution_count": 6,
   "metadata": {},
   "outputs": [],
   "source": [
    "#main function to compute functional similarity matrix based on GO terms\n",
    "def compute_functional_matrix(excel_df):\n",
    "    \n",
    "    #get all GO data\n",
    "    GO_data = excel_df.loc[:,\"Gene Ontology\": \"Unnamed: 22\"]\n",
    "\n",
    "    functional_sim_GO = compute_jaccard_matrix(GO_data.T)\n",
    "\n",
    "    #set row and col indices for easier understanding\n",
    "    PKB = excel_df['PKBno.']\n",
    "    functional_sim_GO.set_index(PKB, inplace=True)\n",
    "    functional_sim_GO.columns = PKB\n",
    "\n",
    "    #mirror matrix on diagonal for easier comparison\n",
    "    zeros_functional_sim_GO = functional_sim_GO.fillna(0)\n",
    "    np_functional_sim_GO = zeros_functional_sim_GO.to_numpy()\n",
    "    np_functional_sim_GO = np_functional_sim_GO + np_functional_sim_GO.T - np.diag(np.diag(np_functional_sim_GO))\n",
    "\n",
    "    #make dataframe from functional matrix\n",
    "    res = pd.DataFrame(data=np_functional_sim_GO, index=functional_sim_GO.index, columns=functional_sim_GO.index)\n",
    "\n",
    "    sort_matrix(res)\n",
    "\n",
    "    return res\n"
   ]
  },
  {
   "cell_type": "code",
   "execution_count": 13,
   "metadata": {},
   "outputs": [],
   "source": [
    "#compute functional similarity matrix based on GO terms in our data\n",
    "excel_df = pd.read_excel (r'data_wang_jcb2020/data_wang_jcb2020/PKBdatasetGeneOntologyInformationCollection.xlsx')\n",
    "functional_matrix = compute_functional_matrix(excel_df)\n",
    "functional_matrix.to_csv('functional_similarity_GO.csv')"
   ]
  }
 ],
 "metadata": {
  "interpreter": {
   "hash": "4862d528bf816ef908eb0bb3ad51732bf6298ed116c9b5b551b80ecc2d3623f7"
  },
  "kernelspec": {
   "display_name": "Python 3.8.8 64-bit ('base': conda)",
   "language": "python",
   "name": "python3"
  },
  "language_info": {
   "codemirror_mode": {
    "name": "ipython",
    "version": 3
   },
   "file_extension": ".py",
   "mimetype": "text/x-python",
   "name": "python",
   "nbconvert_exporter": "python",
   "pygments_lexer": "ipython3",
   "version": "3.8.8"
  },
  "orig_nbformat": 4
 },
 "nbformat": 4,
 "nbformat_minor": 2
}
