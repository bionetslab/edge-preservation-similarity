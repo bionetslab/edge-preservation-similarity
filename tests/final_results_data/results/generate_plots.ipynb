{
 "cells": [
  {
   "cell_type": "code",
   "execution_count": 1,
   "id": "df0f353e",
   "metadata": {},
   "outputs": [],
   "source": [
    "import seaborn as sns\n",
    "import pandas as pd\n",
    "import numpy as np\n",
    "import matplotlib.pyplot as plt\n",
    "import matplotlib\n",
    "matplotlib.rcParams['pdf.fonttype'] = 42\n",
    "matplotlib.rcParams['ps.fonttype'] = 42\n",
    "matplotlib.rcParams['ytick.labelsize'] = 10"
   ]
  },
  {
   "cell_type": "markdown",
   "id": "81a1a1fb",
   "metadata": {},
   "source": [
    "## Plot empirical approximation ratios"
   ]
  },
  {
   "cell_type": "code",
   "execution_count": 7,
   "id": "6a3faaaa",
   "metadata": {},
   "outputs": [
    {
     "data": {
      "image/png": "[encoded data removed]",
      "text/plain": [
       "<Figure size 360x72 with 1 Axes>"
      ]
     },
     "metadata": {
      "needs_background": "light"
     },
     "output_type": "display_data"
    }
   ],
   "source": [
    "exact = pd.read_csv('validation_results/similarity_values/similarity_EDGE-PRESERVATION-SIM-EXACT.csv',index_col=0)\n",
    "approx = pd.read_csv('validation_results/similarity_values/similarity_EDGE-PRESERVATION-SIM-APPROX.csv',index_col=0)\n",
    "ratios = (exact / approx).to_numpy()\n",
    "ratio_list = [ratios[i,j] for i in range(ratios.shape[0]) for j in range(i, ratios.shape[1])]\n",
    "fig = plt.figure(figsize=(5,1))\n",
    "ax = sns.boxplot(x=ratio_list)\n",
    "ax.tick_params(left=False)\n",
    "fig.tight_layout()\n",
    "fig.savefig('empirical_ratios.pdf')"
   ]
  },
  {
   "cell_type": "markdown",
   "id": "b7fe9745",
   "metadata": {},
   "source": [
    "## Plot runtimes"
   ]
  },
  {
   "cell_type": "code",
   "execution_count": 10,
   "id": "ff7ca34d",
   "metadata": {},
   "outputs": [
    {
     "data": {
      "image/png": "[encoded data removed]",
      "text/plain": [
       "<Figure size 360x162 with 1 Axes>"
      ]
     },
     "metadata": {
      "needs_background": "light"
     },
     "output_type": "display_data"
    }
   ],
   "source": [
    "Runtime = []\n",
    "Size = []\n",
    "Algorithm = []\n",
    "algos = [('approx','4-APPROX'),('gurobi','GUROBI'),('tree_edit_dist','TREE-EDIT-DIST')]\n",
    "for algo, algo2 in algos:\n",
    "    sizes = [20,40,60,80,100]\n",
    "    if algo == 'gurobi':\n",
    "        sizes = [20,40]\n",
    "    for size in sizes:\n",
    "        path = f'scalability_results/scalability_{algo}/{size}_results/df_times_{algo2}.csv'\n",
    "        times = pd.read_csv(path,index_col=0)\n",
    "        for time in times.to_numpy().flatten():\n",
    "            if time > 0.0:\n",
    "                Runtime.append(time)\n",
    "                Size.append(size)\n",
    "                if algo == 'gurobi':\n",
    "                    Algorithm.append('EXACT')\n",
    "                elif algo == 'approx':\n",
    "                    Algorithm.append('APPROX')\n",
    "                else:\n",
    "                    Algorithm.append('RTED')\n",
    "all_times = pd.DataFrame({'Algorithm':Algorithm,'Order':Size,'Runtime in sec.':Runtime})\n",
    "all_times['Runtime in sec.'] = pd.to_numeric(all_times['Runtime in sec.'])\n",
    "fig = plt.figure(figsize=(5,2.25))\n",
    "ax = sns.lineplot(data=all_times,x='Order',y='Runtime in sec.',hue_order=['EXACT','APPROX','RTED'],hue='Algorithm')\n",
    "plt.yscale('log')\n",
    "ax.set_xticks([20,40,60,80,100])\n",
    "ax.set_xticklabels(['1-20','21-40','41-60','61-80','81-100'],fontsize=10)\n",
    "ax.set_ylabel('Mean runtimes\\nin seconds')\n",
    "ax.set_xlabel('Tree orders')\n",
    "plt.legend(fontsize=10)\n",
    "fig.tight_layout()\n",
    "fig.savefig('runtimes.pdf')"
   ]
  }
 ],
 "metadata": {
  "kernelspec": {
   "display_name": "Python 3",
   "language": "python",
   "name": "python3"
  },
  "language_info": {
   "codemirror_mode": {
    "name": "ipython",
    "version": 3
   },
   "file_extension": ".py",
   "mimetype": "text/x-python",
   "name": "python",
   "nbconvert_exporter": "python",
   "pygments_lexer": "ipython3",
   "version": "3.8.8"
  }
 },
 "nbformat": 4,
 "nbformat_minor": 5
}
