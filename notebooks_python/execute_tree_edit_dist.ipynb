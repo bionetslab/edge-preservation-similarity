{
 "cells": [
  {
   "cell_type": "code",
   "execution_count": 10,
   "metadata": {},
   "outputs": [],
   "source": [
    "import os\n",
    "import subprocess"
   ]
  },
  {
   "cell_type": "code",
   "execution_count": 18,
   "metadata": {},
   "outputs": [],
   "source": [
    "#file1 = \"/home/jana/Documents/BIONETs/Code/tree_match_approx_validator/all_other_data/scalability_trees/tree_blocks_bracket/20/20_0/0.txt\"\n",
    "#file2 = \"/home/jana/Documents/BIONETs/Code/tree_match_approx_validator/all_other_data/scalability_trees/tree_blocks_bracket/20/20_1/1.txt\"\n",
    "file1 = \"/home/jana/Documents/BIONETs/Code/planeGraph2tree-master/planeGraph2tree-master/ComparisonProgram/tree_result_MutiRoot/PKB4/1.txt\"\n",
    "file2 = \"/home/jana/Documents/BIONETs/Code/planeGraph2tree-master/planeGraph2tree-master/ComparisonProgram/tree_result_MutiRoot/PKB6/1.txt\"\n",
    "\n",
    "weights = \"1 1 1\"\n",
    "\n",
    "test = subprocess.call(['java', '-jar', 'RTED_v1.2.jar', '-f', file1, file2, '-c', '1', '1', '1', '-s', 'left', '--switch'])\n",
    "#test = os.system( \"java -jar RTED_v1.2.jar -f \" + file1 + \" \" + file1 + \" -c \" + weights +  \" -s left --switch\")\n",
    "#os.waitstatus_to_exitcode(test)\n",
    "\n",
    "#java -jar RTED_v1.2.jar -f $path/$expData1/$file $path/$expData2/$sfile -c $insertion $delection $subtitution -s left --switch)"
   ]
  },
  {
   "cell_type": "code",
   "execution_count": 19,
   "metadata": {},
   "outputs": [
    {
     "data": {
      "text/plain": [
       "0"
      ]
     },
     "execution_count": 19,
     "metadata": {},
     "output_type": "execute_result"
    }
   ],
   "source": [
    "test"
   ]
  },
  {
   "cell_type": "code",
   "execution_count": 21,
   "metadata": {},
   "outputs": [
    {
     "name": "stdout",
     "output_type": "stream",
     "text": [
      "hello  1 2\n"
     ]
    }
   ],
   "source": [
    "i = 1\n",
    "j = 2\n",
    "print(\"hello \", i,j)"
   ]
  },
  {
   "cell_type": "code",
   "execution_count": 108,
   "metadata": {},
   "outputs": [],
   "source": [
    "import os\n",
    "\n",
    "path = \"/home/jana/Documents/BIONETs/Code/tree_match_approx_validator/all_other_data/scalability_trees/tree_blocks_bracket\"\n",
    "\n",
    "graph_coll = []\n",
    "listdir=os.listdir(path)\n",
    "for dire in listdir:\n",
    "    #print('big_dire: ', dire)\n",
    "    block_dir= path + '/' + dire\n",
    "    liste=os.listdir(block_dir)\n",
    "    count = ''\n",
    "    graph_row = []\n",
    "    for d in liste:\n",
    "        #print(d)\n",
    "        graph = ''\n",
    "        count = str(d)[-1]\n",
    "        graph_path = block_dir + \"/\" + str(d) + \"/\" + str(count) + \".txt\"\n",
    "        graph_row.append([graph_path])\n",
    "    graph_coll.append(graph_row)\n",
    "    \n",
    "\n",
    "        #print(count)\n",
    "        #import gml graph\n",
    "        #count = str(d)[-1]\n",
    "        #file_path = block_dir + \"/\" + str(d) + \"/\" + str(count) + \".gml\"\n",
    "        #H = nx.read_gml(file_path, label = 'id')\n",
    "        \n",
    "        #transform to bracket\n",
    "        #bracket = tree_to_bracket(H)\n",
    "        #print(\"bracket: \", bracket)\n",
    "        #safe in txt\n",
    "        #f = open(block_dir + \"/\" + str(d) + \"/\" + str(count) + \".txt\",\"a\")\n",
    "        #f.write(bracket)"
   ]
  },
  {
   "cell_type": "code",
   "execution_count": 120,
   "metadata": {},
   "outputs": [
    {
     "data": {
      "text/plain": [
       "'/home/jana/Documents/BIONETs/Code/tree_match_approx_validator/all_other_data/scalability_trees/tree_blocks_bracket/20/20_1/1.txt'"
      ]
     },
     "execution_count": 120,
     "metadata": {},
     "output_type": "execute_result"
    }
   ],
   "source": []
  },
  {
   "cell_type": "code",
   "execution_count": 117,
   "metadata": {},
   "outputs": [
    {
     "name": "stdout",
     "output_type": "stream",
     "text": [
      "i:  [['/home/jana/Documents/BIONETs/Code/tree_match_approx_validator/all_other_data/scalability_trees/tree_blocks_bracket/20/20_1/1.txt'], ['/home/jana/Documents/BIONETs/Code/tree_match_approx_validator/all_other_data/scalability_trees/tree_blocks_bracket/20/20_3/3.txt'], ['/home/jana/Documents/BIONETs/Code/tree_match_approx_validator/all_other_data/scalability_trees/tree_blocks_bracket/20/20_4/4.txt'], ['/home/jana/Documents/BIONETs/Code/tree_match_approx_validator/all_other_data/scalability_trees/tree_blocks_bracket/20/20_2/2.txt'], ['/home/jana/Documents/BIONETs/Code/tree_match_approx_validator/all_other_data/scalability_trees/tree_blocks_bracket/20/20_0/0.txt']]\n",
      "len i  5\n",
      "len i[j]  1\n",
      "j:  ['/home/jana/Documents/BIONETs/Code/tree_match_approx_validator/all_other_data/scalability_trees/tree_blocks_bracket/20/20_1/1.txt']\n",
      "\n",
      "\n",
      "i:  [['/home/jana/Documents/BIONETs/Code/tree_match_approx_validator/all_other_data/scalability_trees/tree_blocks_bracket/20/20_1/1.txt'], ['/home/jana/Documents/BIONETs/Code/tree_match_approx_validator/all_other_data/scalability_trees/tree_blocks_bracket/20/20_3/3.txt'], ['/home/jana/Documents/BIONETs/Code/tree_match_approx_validator/all_other_data/scalability_trees/tree_blocks_bracket/20/20_4/4.txt'], ['/home/jana/Documents/BIONETs/Code/tree_match_approx_validator/all_other_data/scalability_trees/tree_blocks_bracket/20/20_2/2.txt'], ['/home/jana/Documents/BIONETs/Code/tree_match_approx_validator/all_other_data/scalability_trees/tree_blocks_bracket/20/20_0/0.txt']]\n",
      "len i  5\n",
      "len i[j]  1\n",
      "j:  ['/home/jana/Documents/BIONETs/Code/tree_match_approx_validator/all_other_data/scalability_trees/tree_blocks_bracket/20/20_3/3.txt']\n",
      "\n",
      "\n",
      "i:  [['/home/jana/Documents/BIONETs/Code/tree_match_approx_validator/all_other_data/scalability_trees/tree_blocks_bracket/20/20_1/1.txt'], ['/home/jana/Documents/BIONETs/Code/tree_match_approx_validator/all_other_data/scalability_trees/tree_blocks_bracket/20/20_3/3.txt'], ['/home/jana/Documents/BIONETs/Code/tree_match_approx_validator/all_other_data/scalability_trees/tree_blocks_bracket/20/20_4/4.txt'], ['/home/jana/Documents/BIONETs/Code/tree_match_approx_validator/all_other_data/scalability_trees/tree_blocks_bracket/20/20_2/2.txt'], ['/home/jana/Documents/BIONETs/Code/tree_match_approx_validator/all_other_data/scalability_trees/tree_blocks_bracket/20/20_0/0.txt']]\n",
      "len i  5\n",
      "len i[j]  1\n",
      "j:  ['/home/jana/Documents/BIONETs/Code/tree_match_approx_validator/all_other_data/scalability_trees/tree_blocks_bracket/20/20_4/4.txt']\n",
      "\n",
      "\n",
      "i:  [['/home/jana/Documents/BIONETs/Code/tree_match_approx_validator/all_other_data/scalability_trees/tree_blocks_bracket/20/20_1/1.txt'], ['/home/jana/Documents/BIONETs/Code/tree_match_approx_validator/all_other_data/scalability_trees/tree_blocks_bracket/20/20_3/3.txt'], ['/home/jana/Documents/BIONETs/Code/tree_match_approx_validator/all_other_data/scalability_trees/tree_blocks_bracket/20/20_4/4.txt'], ['/home/jana/Documents/BIONETs/Code/tree_match_approx_validator/all_other_data/scalability_trees/tree_blocks_bracket/20/20_2/2.txt'], ['/home/jana/Documents/BIONETs/Code/tree_match_approx_validator/all_other_data/scalability_trees/tree_blocks_bracket/20/20_0/0.txt']]\n",
      "len i  5\n",
      "len i[j]  1\n",
      "j:  ['/home/jana/Documents/BIONETs/Code/tree_match_approx_validator/all_other_data/scalability_trees/tree_blocks_bracket/20/20_2/2.txt']\n",
      "\n",
      "\n",
      "i:  [['/home/jana/Documents/BIONETs/Code/tree_match_approx_validator/all_other_data/scalability_trees/tree_blocks_bracket/20/20_1/1.txt'], ['/home/jana/Documents/BIONETs/Code/tree_match_approx_validator/all_other_data/scalability_trees/tree_blocks_bracket/20/20_3/3.txt'], ['/home/jana/Documents/BIONETs/Code/tree_match_approx_validator/all_other_data/scalability_trees/tree_blocks_bracket/20/20_4/4.txt'], ['/home/jana/Documents/BIONETs/Code/tree_match_approx_validator/all_other_data/scalability_trees/tree_blocks_bracket/20/20_2/2.txt'], ['/home/jana/Documents/BIONETs/Code/tree_match_approx_validator/all_other_data/scalability_trees/tree_blocks_bracket/20/20_0/0.txt']]\n",
      "len i  5\n",
      "len i[j]  1\n",
      "j:  ['/home/jana/Documents/BIONETs/Code/tree_match_approx_validator/all_other_data/scalability_trees/tree_blocks_bracket/20/20_0/0.txt']\n",
      "\n",
      "\n",
      "i:  [['/home/jana/Documents/BIONETs/Code/tree_match_approx_validator/all_other_data/scalability_trees/tree_blocks_bracket/40/40_0/0.txt'], ['/home/jana/Documents/BIONETs/Code/tree_match_approx_validator/all_other_data/scalability_trees/tree_blocks_bracket/40/40_3/3.txt'], ['/home/jana/Documents/BIONETs/Code/tree_match_approx_validator/all_other_data/scalability_trees/tree_blocks_bracket/40/40_4/4.txt'], ['/home/jana/Documents/BIONETs/Code/tree_match_approx_validator/all_other_data/scalability_trees/tree_blocks_bracket/40/40_2/2.txt'], ['/home/jana/Documents/BIONETs/Code/tree_match_approx_validator/all_other_data/scalability_trees/tree_blocks_bracket/40/40_1/1.txt']]\n",
      "len i  5\n",
      "len i[j]  1\n",
      "j:  ['/home/jana/Documents/BIONETs/Code/tree_match_approx_validator/all_other_data/scalability_trees/tree_blocks_bracket/40/40_0/0.txt']\n",
      "\n",
      "\n",
      "i:  [['/home/jana/Documents/BIONETs/Code/tree_match_approx_validator/all_other_data/scalability_trees/tree_blocks_bracket/40/40_0/0.txt'], ['/home/jana/Documents/BIONETs/Code/tree_match_approx_validator/all_other_data/scalability_trees/tree_blocks_bracket/40/40_3/3.txt'], ['/home/jana/Documents/BIONETs/Code/tree_match_approx_validator/all_other_data/scalability_trees/tree_blocks_bracket/40/40_4/4.txt'], ['/home/jana/Documents/BIONETs/Code/tree_match_approx_validator/all_other_data/scalability_trees/tree_blocks_bracket/40/40_2/2.txt'], ['/home/jana/Documents/BIONETs/Code/tree_match_approx_validator/all_other_data/scalability_trees/tree_blocks_bracket/40/40_1/1.txt']]\n",
      "len i  5\n",
      "len i[j]  1\n",
      "j:  ['/home/jana/Documents/BIONETs/Code/tree_match_approx_validator/all_other_data/scalability_trees/tree_blocks_bracket/40/40_3/3.txt']\n",
      "\n",
      "\n",
      "i:  [['/home/jana/Documents/BIONETs/Code/tree_match_approx_validator/all_other_data/scalability_trees/tree_blocks_bracket/40/40_0/0.txt'], ['/home/jana/Documents/BIONETs/Code/tree_match_approx_validator/all_other_data/scalability_trees/tree_blocks_bracket/40/40_3/3.txt'], ['/home/jana/Documents/BIONETs/Code/tree_match_approx_validator/all_other_data/scalability_trees/tree_blocks_bracket/40/40_4/4.txt'], ['/home/jana/Documents/BIONETs/Code/tree_match_approx_validator/all_other_data/scalability_trees/tree_blocks_bracket/40/40_2/2.txt'], ['/home/jana/Documents/BIONETs/Code/tree_match_approx_validator/all_other_data/scalability_trees/tree_blocks_bracket/40/40_1/1.txt']]\n",
      "len i  5\n",
      "len i[j]  1\n",
      "j:  ['/home/jana/Documents/BIONETs/Code/tree_match_approx_validator/all_other_data/scalability_trees/tree_blocks_bracket/40/40_4/4.txt']\n",
      "\n",
      "\n",
      "i:  [['/home/jana/Documents/BIONETs/Code/tree_match_approx_validator/all_other_data/scalability_trees/tree_blocks_bracket/40/40_0/0.txt'], ['/home/jana/Documents/BIONETs/Code/tree_match_approx_validator/all_other_data/scalability_trees/tree_blocks_bracket/40/40_3/3.txt'], ['/home/jana/Documents/BIONETs/Code/tree_match_approx_validator/all_other_data/scalability_trees/tree_blocks_bracket/40/40_4/4.txt'], ['/home/jana/Documents/BIONETs/Code/tree_match_approx_validator/all_other_data/scalability_trees/tree_blocks_bracket/40/40_2/2.txt'], ['/home/jana/Documents/BIONETs/Code/tree_match_approx_validator/all_other_data/scalability_trees/tree_blocks_bracket/40/40_1/1.txt']]\n",
      "len i  5\n",
      "len i[j]  1\n",
      "j:  ['/home/jana/Documents/BIONETs/Code/tree_match_approx_validator/all_other_data/scalability_trees/tree_blocks_bracket/40/40_2/2.txt']\n",
      "\n",
      "\n",
      "i:  [['/home/jana/Documents/BIONETs/Code/tree_match_approx_validator/all_other_data/scalability_trees/tree_blocks_bracket/40/40_0/0.txt'], ['/home/jana/Documents/BIONETs/Code/tree_match_approx_validator/all_other_data/scalability_trees/tree_blocks_bracket/40/40_3/3.txt'], ['/home/jana/Documents/BIONETs/Code/tree_match_approx_validator/all_other_data/scalability_trees/tree_blocks_bracket/40/40_4/4.txt'], ['/home/jana/Documents/BIONETs/Code/tree_match_approx_validator/all_other_data/scalability_trees/tree_blocks_bracket/40/40_2/2.txt'], ['/home/jana/Documents/BIONETs/Code/tree_match_approx_validator/all_other_data/scalability_trees/tree_blocks_bracket/40/40_1/1.txt']]\n",
      "len i  5\n",
      "len i[j]  1\n",
      "j:  ['/home/jana/Documents/BIONETs/Code/tree_match_approx_validator/all_other_data/scalability_trees/tree_blocks_bracket/40/40_1/1.txt']\n",
      "\n",
      "\n",
      "i:  [['/home/jana/Documents/BIONETs/Code/tree_match_approx_validator/all_other_data/scalability_trees/tree_blocks_bracket/80/80_3/3.txt'], ['/home/jana/Documents/BIONETs/Code/tree_match_approx_validator/all_other_data/scalability_trees/tree_blocks_bracket/80/80_0/0.txt'], ['/home/jana/Documents/BIONETs/Code/tree_match_approx_validator/all_other_data/scalability_trees/tree_blocks_bracket/80/80_2/2.txt'], ['/home/jana/Documents/BIONETs/Code/tree_match_approx_validator/all_other_data/scalability_trees/tree_blocks_bracket/80/80_4/4.txt'], ['/home/jana/Documents/BIONETs/Code/tree_match_approx_validator/all_other_data/scalability_trees/tree_blocks_bracket/80/80_1/1.txt']]\n",
      "len i  5\n",
      "len i[j]  1\n",
      "j:  ['/home/jana/Documents/BIONETs/Code/tree_match_approx_validator/all_other_data/scalability_trees/tree_blocks_bracket/80/80_3/3.txt']\n",
      "\n",
      "\n",
      "i:  [['/home/jana/Documents/BIONETs/Code/tree_match_approx_validator/all_other_data/scalability_trees/tree_blocks_bracket/80/80_3/3.txt'], ['/home/jana/Documents/BIONETs/Code/tree_match_approx_validator/all_other_data/scalability_trees/tree_blocks_bracket/80/80_0/0.txt'], ['/home/jana/Documents/BIONETs/Code/tree_match_approx_validator/all_other_data/scalability_trees/tree_blocks_bracket/80/80_2/2.txt'], ['/home/jana/Documents/BIONETs/Code/tree_match_approx_validator/all_other_data/scalability_trees/tree_blocks_bracket/80/80_4/4.txt'], ['/home/jana/Documents/BIONETs/Code/tree_match_approx_validator/all_other_data/scalability_trees/tree_blocks_bracket/80/80_1/1.txt']]\n",
      "len i  5\n",
      "len i[j]  1\n",
      "j:  ['/home/jana/Documents/BIONETs/Code/tree_match_approx_validator/all_other_data/scalability_trees/tree_blocks_bracket/80/80_0/0.txt']\n",
      "\n",
      "\n",
      "i:  [['/home/jana/Documents/BIONETs/Code/tree_match_approx_validator/all_other_data/scalability_trees/tree_blocks_bracket/80/80_3/3.txt'], ['/home/jana/Documents/BIONETs/Code/tree_match_approx_validator/all_other_data/scalability_trees/tree_blocks_bracket/80/80_0/0.txt'], ['/home/jana/Documents/BIONETs/Code/tree_match_approx_validator/all_other_data/scalability_trees/tree_blocks_bracket/80/80_2/2.txt'], ['/home/jana/Documents/BIONETs/Code/tree_match_approx_validator/all_other_data/scalability_trees/tree_blocks_bracket/80/80_4/4.txt'], ['/home/jana/Documents/BIONETs/Code/tree_match_approx_validator/all_other_data/scalability_trees/tree_blocks_bracket/80/80_1/1.txt']]\n",
      "len i  5\n",
      "len i[j]  1\n",
      "j:  ['/home/jana/Documents/BIONETs/Code/tree_match_approx_validator/all_other_data/scalability_trees/tree_blocks_bracket/80/80_2/2.txt']\n",
      "\n",
      "\n",
      "i:  [['/home/jana/Documents/BIONETs/Code/tree_match_approx_validator/all_other_data/scalability_trees/tree_blocks_bracket/80/80_3/3.txt'], ['/home/jana/Documents/BIONETs/Code/tree_match_approx_validator/all_other_data/scalability_trees/tree_blocks_bracket/80/80_0/0.txt'], ['/home/jana/Documents/BIONETs/Code/tree_match_approx_validator/all_other_data/scalability_trees/tree_blocks_bracket/80/80_2/2.txt'], ['/home/jana/Documents/BIONETs/Code/tree_match_approx_validator/all_other_data/scalability_trees/tree_blocks_bracket/80/80_4/4.txt'], ['/home/jana/Documents/BIONETs/Code/tree_match_approx_validator/all_other_data/scalability_trees/tree_blocks_bracket/80/80_1/1.txt']]\n",
      "len i  5\n",
      "len i[j]  1\n",
      "j:  ['/home/jana/Documents/BIONETs/Code/tree_match_approx_validator/all_other_data/scalability_trees/tree_blocks_bracket/80/80_4/4.txt']\n",
      "\n",
      "\n",
      "i:  [['/home/jana/Documents/BIONETs/Code/tree_match_approx_validator/all_other_data/scalability_trees/tree_blocks_bracket/80/80_3/3.txt'], ['/home/jana/Documents/BIONETs/Code/tree_match_approx_validator/all_other_data/scalability_trees/tree_blocks_bracket/80/80_0/0.txt'], ['/home/jana/Documents/BIONETs/Code/tree_match_approx_validator/all_other_data/scalability_trees/tree_blocks_bracket/80/80_2/2.txt'], ['/home/jana/Documents/BIONETs/Code/tree_match_approx_validator/all_other_data/scalability_trees/tree_blocks_bracket/80/80_4/4.txt'], ['/home/jana/Documents/BIONETs/Code/tree_match_approx_validator/all_other_data/scalability_trees/tree_blocks_bracket/80/80_1/1.txt']]\n",
      "len i  5\n",
      "len i[j]  1\n",
      "j:  ['/home/jana/Documents/BIONETs/Code/tree_match_approx_validator/all_other_data/scalability_trees/tree_blocks_bracket/80/80_1/1.txt']\n",
      "\n",
      "\n",
      "i:  [['/home/jana/Documents/BIONETs/Code/tree_match_approx_validator/all_other_data/scalability_trees/tree_blocks_bracket/100/100_0/0.txt'], ['/home/jana/Documents/BIONETs/Code/tree_match_approx_validator/all_other_data/scalability_trees/tree_blocks_bracket/100/100_4/4.txt'], ['/home/jana/Documents/BIONETs/Code/tree_match_approx_validator/all_other_data/scalability_trees/tree_blocks_bracket/100/100_3/3.txt'], ['/home/jana/Documents/BIONETs/Code/tree_match_approx_validator/all_other_data/scalability_trees/tree_blocks_bracket/100/100_1/1.txt'], ['/home/jana/Documents/BIONETs/Code/tree_match_approx_validator/all_other_data/scalability_trees/tree_blocks_bracket/100/100_2/2.txt']]\n",
      "len i  5\n",
      "len i[j]  1\n",
      "j:  ['/home/jana/Documents/BIONETs/Code/tree_match_approx_validator/all_other_data/scalability_trees/tree_blocks_bracket/100/100_0/0.txt']\n",
      "\n",
      "\n",
      "i:  [['/home/jana/Documents/BIONETs/Code/tree_match_approx_validator/all_other_data/scalability_trees/tree_blocks_bracket/100/100_0/0.txt'], ['/home/jana/Documents/BIONETs/Code/tree_match_approx_validator/all_other_data/scalability_trees/tree_blocks_bracket/100/100_4/4.txt'], ['/home/jana/Documents/BIONETs/Code/tree_match_approx_validator/all_other_data/scalability_trees/tree_blocks_bracket/100/100_3/3.txt'], ['/home/jana/Documents/BIONETs/Code/tree_match_approx_validator/all_other_data/scalability_trees/tree_blocks_bracket/100/100_1/1.txt'], ['/home/jana/Documents/BIONETs/Code/tree_match_approx_validator/all_other_data/scalability_trees/tree_blocks_bracket/100/100_2/2.txt']]\n",
      "len i  5\n",
      "len i[j]  1\n",
      "j:  ['/home/jana/Documents/BIONETs/Code/tree_match_approx_validator/all_other_data/scalability_trees/tree_blocks_bracket/100/100_4/4.txt']\n",
      "\n",
      "\n",
      "i:  [['/home/jana/Documents/BIONETs/Code/tree_match_approx_validator/all_other_data/scalability_trees/tree_blocks_bracket/100/100_0/0.txt'], ['/home/jana/Documents/BIONETs/Code/tree_match_approx_validator/all_other_data/scalability_trees/tree_blocks_bracket/100/100_4/4.txt'], ['/home/jana/Documents/BIONETs/Code/tree_match_approx_validator/all_other_data/scalability_trees/tree_blocks_bracket/100/100_3/3.txt'], ['/home/jana/Documents/BIONETs/Code/tree_match_approx_validator/all_other_data/scalability_trees/tree_blocks_bracket/100/100_1/1.txt'], ['/home/jana/Documents/BIONETs/Code/tree_match_approx_validator/all_other_data/scalability_trees/tree_blocks_bracket/100/100_2/2.txt']]\n",
      "len i  5\n",
      "len i[j]  1\n",
      "j:  ['/home/jana/Documents/BIONETs/Code/tree_match_approx_validator/all_other_data/scalability_trees/tree_blocks_bracket/100/100_3/3.txt']\n",
      "\n",
      "\n",
      "i:  [['/home/jana/Documents/BIONETs/Code/tree_match_approx_validator/all_other_data/scalability_trees/tree_blocks_bracket/100/100_0/0.txt'], ['/home/jana/Documents/BIONETs/Code/tree_match_approx_validator/all_other_data/scalability_trees/tree_blocks_bracket/100/100_4/4.txt'], ['/home/jana/Documents/BIONETs/Code/tree_match_approx_validator/all_other_data/scalability_trees/tree_blocks_bracket/100/100_3/3.txt'], ['/home/jana/Documents/BIONETs/Code/tree_match_approx_validator/all_other_data/scalability_trees/tree_blocks_bracket/100/100_1/1.txt'], ['/home/jana/Documents/BIONETs/Code/tree_match_approx_validator/all_other_data/scalability_trees/tree_blocks_bracket/100/100_2/2.txt']]\n",
      "len i  5\n",
      "len i[j]  1\n",
      "j:  ['/home/jana/Documents/BIONETs/Code/tree_match_approx_validator/all_other_data/scalability_trees/tree_blocks_bracket/100/100_1/1.txt']\n",
      "\n",
      "\n",
      "i:  [['/home/jana/Documents/BIONETs/Code/tree_match_approx_validator/all_other_data/scalability_trees/tree_blocks_bracket/100/100_0/0.txt'], ['/home/jana/Documents/BIONETs/Code/tree_match_approx_validator/all_other_data/scalability_trees/tree_blocks_bracket/100/100_4/4.txt'], ['/home/jana/Documents/BIONETs/Code/tree_match_approx_validator/all_other_data/scalability_trees/tree_blocks_bracket/100/100_3/3.txt'], ['/home/jana/Documents/BIONETs/Code/tree_match_approx_validator/all_other_data/scalability_trees/tree_blocks_bracket/100/100_1/1.txt'], ['/home/jana/Documents/BIONETs/Code/tree_match_approx_validator/all_other_data/scalability_trees/tree_blocks_bracket/100/100_2/2.txt']]\n",
      "len i  5\n",
      "len i[j]  1\n",
      "j:  ['/home/jana/Documents/BIONETs/Code/tree_match_approx_validator/all_other_data/scalability_trees/tree_blocks_bracket/100/100_2/2.txt']\n",
      "\n",
      "\n",
      "i:  [['/home/jana/Documents/BIONETs/Code/tree_match_approx_validator/all_other_data/scalability_trees/tree_blocks_bracket/60/60_2/2.txt'], ['/home/jana/Documents/BIONETs/Code/tree_match_approx_validator/all_other_data/scalability_trees/tree_blocks_bracket/60/60_3/3.txt'], ['/home/jana/Documents/BIONETs/Code/tree_match_approx_validator/all_other_data/scalability_trees/tree_blocks_bracket/60/60_0/0.txt'], ['/home/jana/Documents/BIONETs/Code/tree_match_approx_validator/all_other_data/scalability_trees/tree_blocks_bracket/60/60_4/4.txt'], ['/home/jana/Documents/BIONETs/Code/tree_match_approx_validator/all_other_data/scalability_trees/tree_blocks_bracket/60/60_1/1.txt']]\n",
      "len i  5\n",
      "len i[j]  1\n",
      "j:  ['/home/jana/Documents/BIONETs/Code/tree_match_approx_validator/all_other_data/scalability_trees/tree_blocks_bracket/60/60_2/2.txt']\n",
      "\n",
      "\n",
      "i:  [['/home/jana/Documents/BIONETs/Code/tree_match_approx_validator/all_other_data/scalability_trees/tree_blocks_bracket/60/60_2/2.txt'], ['/home/jana/Documents/BIONETs/Code/tree_match_approx_validator/all_other_data/scalability_trees/tree_blocks_bracket/60/60_3/3.txt'], ['/home/jana/Documents/BIONETs/Code/tree_match_approx_validator/all_other_data/scalability_trees/tree_blocks_bracket/60/60_0/0.txt'], ['/home/jana/Documents/BIONETs/Code/tree_match_approx_validator/all_other_data/scalability_trees/tree_blocks_bracket/60/60_4/4.txt'], ['/home/jana/Documents/BIONETs/Code/tree_match_approx_validator/all_other_data/scalability_trees/tree_blocks_bracket/60/60_1/1.txt']]\n",
      "len i  5\n",
      "len i[j]  1\n",
      "j:  ['/home/jana/Documents/BIONETs/Code/tree_match_approx_validator/all_other_data/scalability_trees/tree_blocks_bracket/60/60_3/3.txt']\n",
      "\n",
      "\n",
      "i:  [['/home/jana/Documents/BIONETs/Code/tree_match_approx_validator/all_other_data/scalability_trees/tree_blocks_bracket/60/60_2/2.txt'], ['/home/jana/Documents/BIONETs/Code/tree_match_approx_validator/all_other_data/scalability_trees/tree_blocks_bracket/60/60_3/3.txt'], ['/home/jana/Documents/BIONETs/Code/tree_match_approx_validator/all_other_data/scalability_trees/tree_blocks_bracket/60/60_0/0.txt'], ['/home/jana/Documents/BIONETs/Code/tree_match_approx_validator/all_other_data/scalability_trees/tree_blocks_bracket/60/60_4/4.txt'], ['/home/jana/Documents/BIONETs/Code/tree_match_approx_validator/all_other_data/scalability_trees/tree_blocks_bracket/60/60_1/1.txt']]\n",
      "len i  5\n",
      "len i[j]  1\n",
      "j:  ['/home/jana/Documents/BIONETs/Code/tree_match_approx_validator/all_other_data/scalability_trees/tree_blocks_bracket/60/60_0/0.txt']\n",
      "\n",
      "\n",
      "i:  [['/home/jana/Documents/BIONETs/Code/tree_match_approx_validator/all_other_data/scalability_trees/tree_blocks_bracket/60/60_2/2.txt'], ['/home/jana/Documents/BIONETs/Code/tree_match_approx_validator/all_other_data/scalability_trees/tree_blocks_bracket/60/60_3/3.txt'], ['/home/jana/Documents/BIONETs/Code/tree_match_approx_validator/all_other_data/scalability_trees/tree_blocks_bracket/60/60_0/0.txt'], ['/home/jana/Documents/BIONETs/Code/tree_match_approx_validator/all_other_data/scalability_trees/tree_blocks_bracket/60/60_4/4.txt'], ['/home/jana/Documents/BIONETs/Code/tree_match_approx_validator/all_other_data/scalability_trees/tree_blocks_bracket/60/60_1/1.txt']]\n",
      "len i  5\n",
      "len i[j]  1\n",
      "j:  ['/home/jana/Documents/BIONETs/Code/tree_match_approx_validator/all_other_data/scalability_trees/tree_blocks_bracket/60/60_4/4.txt']\n",
      "\n",
      "\n",
      "i:  [['/home/jana/Documents/BIONETs/Code/tree_match_approx_validator/all_other_data/scalability_trees/tree_blocks_bracket/60/60_2/2.txt'], ['/home/jana/Documents/BIONETs/Code/tree_match_approx_validator/all_other_data/scalability_trees/tree_blocks_bracket/60/60_3/3.txt'], ['/home/jana/Documents/BIONETs/Code/tree_match_approx_validator/all_other_data/scalability_trees/tree_blocks_bracket/60/60_0/0.txt'], ['/home/jana/Documents/BIONETs/Code/tree_match_approx_validator/all_other_data/scalability_trees/tree_blocks_bracket/60/60_4/4.txt'], ['/home/jana/Documents/BIONETs/Code/tree_match_approx_validator/all_other_data/scalability_trees/tree_blocks_bracket/60/60_1/1.txt']]\n",
      "len i  5\n",
      "len i[j]  1\n",
      "j:  ['/home/jana/Documents/BIONETs/Code/tree_match_approx_validator/all_other_data/scalability_trees/tree_blocks_bracket/60/60_1/1.txt']\n",
      "\n",
      "\n"
     ]
    }
   ],
   "source": [
    "for i in range(len(graph_coll)):\n",
    "    for j in range(len(graph_coll[i])):\n",
    "        print(\"i: \", graph_coll[i])\n",
    "        print(\"len i \", len(graph_coll[i]))\n",
    "        print(\"len i[j] \", len(graph_coll[i][j]))\n",
    "        print(\"j: \", graph_coll[i][j])\n",
    "        print(\"\\n\")"
   ]
  },
  {
   "cell_type": "code",
   "execution_count": 69,
   "metadata": {},
   "outputs": [],
   "source": [
    "test = subprocess.call(['java', '-jar', 'RTED_v1.2.jar', '-f', g1, g1, '-c', '1', '1', '1', '-s', 'left', '--switch'])"
   ]
  },
  {
   "cell_type": "code",
   "execution_count": 70,
   "metadata": {},
   "outputs": [
    {
     "data": {
      "text/plain": [
       "0"
      ]
     },
     "execution_count": 70,
     "metadata": {},
     "output_type": "execute_result"
    }
   ],
   "source": [
    "test"
   ]
  },
  {
   "cell_type": "code",
   "execution_count": 62,
   "metadata": {},
   "outputs": [
    {
     "name": "stdout",
     "output_type": "stream",
     "text": [
      "20_1\n",
      "20_3\n",
      "20_4\n",
      "20_2\n",
      "20_0\n"
     ]
    }
   ],
   "source": [
    "path = \"/home/jana/Documents/BIONETs/Code/tree_match_approx_validator/all_other_data/scalability_trees/tree_blocks_bracket/20\"\n",
    "\n",
    "block_dir = path\n",
    "\n",
    "#TODO: insert tab when running everything\n",
    "dir_list= os.listdir(block_dir)\n",
    "count = ''\n",
    "graph_row = []\n",
    "for d in dir_list:\n",
    "    print(d)\n",
    "    graph = ''\n",
    "    count = str(d)[-1]\n",
    "    graph_path = block_dir + \"/\" + str(d) + \"/\" + str(count) + \".txt\"\n",
    "    graph_row.append(graph_path)\n",
    "graph_coll.append(graph_row)"
   ]
  },
  {
   "cell_type": "code",
   "execution_count": 66,
   "metadata": {},
   "outputs": [
    {
     "data": {
      "text/plain": [
       "'/home/jana/Documents/BIONETs/Code/tree_match_approx_validator/all_other_data/scalability_trees/tree_blocks_bracket/20/20_1/1.txt'"
      ]
     },
     "execution_count": 66,
     "metadata": {},
     "output_type": "execute_result"
    }
   ],
   "source": [
    "graph_coll[0][0]"
   ]
  },
  {
   "cell_type": "code",
   "execution_count": 71,
   "metadata": {},
   "outputs": [],
   "source": [
    "a = '/home/jana/Documents/BIONETs/Code/tree_match_approx_validator/all_other_data/scalability_trees/tree_blocks_bracket/20/20_1/1.txt'\n",
    "b = '/home/jana/Documents/BIONETs/Code/tree_match_approx_validator/all_other_data/scalability_trees/tree_blocks_bracket/20/20_3/3.txt'"
   ]
  },
  {
   "cell_type": "code",
   "execution_count": 72,
   "metadata": {},
   "outputs": [],
   "source": [
    "test = subprocess.call(['java', '-jar', 'RTED_v1.2.jar', '-f', a, b, '-c', '1', '1', '1', '-s', 'left', '--switch'])"
   ]
  },
  {
   "cell_type": "code",
   "execution_count": 73,
   "metadata": {},
   "outputs": [
    {
     "data": {
      "text/plain": [
       "0"
      ]
     },
     "execution_count": 73,
     "metadata": {},
     "output_type": "execute_result"
    }
   ],
   "source": [
    "test"
   ]
  },
  {
   "cell_type": "code",
   "execution_count": 74,
   "metadata": {},
   "outputs": [],
   "source": [
    "G1 = '/home/jana/Documents/BIONETs/Code/tree_match_approx_validator/all_other_data/scalability_trees/tree_blocks_bracket/20/20_1/1.txt'\n",
    "G2 = '/home/jana/Documents/BIONETs/Code/tree_match_approx_validator/all_other_data/scalability_trees/tree_blocks_bracket/20/20_3/3.txt'"
   ]
  },
  {
   "cell_type": "code",
   "execution_count": 75,
   "metadata": {},
   "outputs": [],
   "source": [
    "test = subprocess.call(['java', '-jar', 'RTED_v1.2.jar', '-f', G1, G2, '-c', '1', '1', '1', '-s', 'left', '--switch'])"
   ]
  },
  {
   "cell_type": "code",
   "execution_count": 76,
   "metadata": {},
   "outputs": [
    {
     "data": {
      "text/plain": [
       "0"
      ]
     },
     "execution_count": 76,
     "metadata": {},
     "output_type": "execute_result"
    }
   ],
   "source": [
    "test"
   ]
  },
  {
   "cell_type": "code",
   "execution_count": null,
   "metadata": {},
   "outputs": [],
   "source": []
  }
 ],
 "metadata": {
  "interpreter": {
   "hash": "4862d528bf816ef908eb0bb3ad51732bf6298ed116c9b5b551b80ecc2d3623f7"
  },
  "kernelspec": {
   "display_name": "Python 3.8.8 ('base')",
   "language": "python",
   "name": "python3"
  },
  "language_info": {
   "codemirror_mode": {
    "name": "ipython",
    "version": 3
   },
   "file_extension": ".py",
   "mimetype": "text/x-python",
   "name": "python",
   "nbconvert_exporter": "python",
   "pygments_lexer": "ipython3",
   "version": "3.8.8"
  },
  "orig_nbformat": 4
 },
 "nbformat": 4,
 "nbformat_minor": 2
}
