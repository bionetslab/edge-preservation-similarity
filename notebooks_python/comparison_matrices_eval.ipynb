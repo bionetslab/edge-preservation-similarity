{
 "cells": [
  {
   "cell_type": "code",
   "execution_count": 1,
   "metadata": {},
   "outputs": [],
   "source": [
    "from sklearn.metrics.cluster import normalized_mutual_info_score, mutual_info_score, adjusted_mutual_info_score\n",
    "from numpy import linalg as LA\n",
    "import pandas as pd\n",
    "import numpy as np\n",
    "import matplotlib.pyplot as plt\n",
    "import networkx as nx\n",
    "import os\n",
    "\n"
   ]
  },
  {
   "cell_type": "code",
   "execution_count": 34,
   "metadata": {},
   "outputs": [],
   "source": [
    "df_matrix_approx_entire = pd.read_csv (r'fixed_df_matrix_approx_entire.csv', index_col=0)\n",
    "df_matrix_gurobi_entire = pd.read_csv (r'fixed_df_matrix_gurobi_entire.csv', index_col=0)\n",
    "df_tree_edit = pd.read_csv(r'df_tree_edit_similarity.csv', index_col=0)\n",
    "df_functional_matrix = pd.read_csv(r'functional_similarity_GO.csv', index_col=0)"
   ]
  },
  {
   "cell_type": "code",
   "execution_count": 35,
   "metadata": {},
   "outputs": [],
   "source": [
    "cropped_functional = df_functional_matrix[df_matrix_approx_entire.index].loc[df_matrix_approx_entire.index]"
   ]
  },
  {
   "cell_type": "code",
   "execution_count": null,
   "metadata": {},
   "outputs": [],
   "source": []
  },
  {
   "cell_type": "code",
   "execution_count": 17,
   "metadata": {},
   "outputs": [],
   "source": [
    "np_gurobi_entire_flat = df_matrix_gurobi_entire.to_numpy().flatten()\n",
    "np_approx_entire_flat = df_matrix_approx_entire.to_numpy().flatten()\n",
    "np_tree_edit_flat = df_tree_edit.to_numpy().flatten()\n",
    "np_crop_func_flat = cropped_functional.to_numpy().flatten()\n",
    "\n",
    "dist_approx = df_matrix_approx_entire.to_numpy() - cropped_functional.to_numpy()\n",
    "dist_gurobi = df_matrix_gurobi_entire.to_numpy() - cropped_functional.to_numpy()\n",
    "dist_tree_edit = df_tree_edit.to_numpy() - cropped_functional.to_numpy()"
   ]
  },
  {
   "cell_type": "code",
   "execution_count": 18,
   "metadata": {},
   "outputs": [],
   "source": [
    "norm_mi_approx = normalized_mutual_info_score(np_approx_entire_flat, np_crop_func_flat)\n",
    "adjusted_mi_approx = adjusted_mutual_info_score(np_approx_entire_flat, np_crop_func_flat)\n",
    "mi_approx = mutual_info_score(np_approx_entire_flat, np_crop_func_flat)"
   ]
  },
  {
   "cell_type": "code",
   "execution_count": 19,
   "metadata": {},
   "outputs": [],
   "source": [
    "norm_mi_gurobi = normalized_mutual_info_score(np_gurobi_entire_flat, np_crop_func_flat)\n",
    "adjusted_mi_gurobi = adjusted_mutual_info_score(np_gurobi_entire_flat, np_crop_func_flat)\n",
    "mi_gurobi = mutual_info_score(np_gurobi_entire_flat, np_crop_func_flat)"
   ]
  },
  {
   "cell_type": "code",
   "execution_count": 20,
   "metadata": {},
   "outputs": [],
   "source": [
    "norm_mi_tree_edit = normalized_mutual_info_score(np_tree_edit_flat, np_crop_func_flat)\n",
    "adjusted_mi_tree_edit = adjusted_mutual_info_score(np_tree_edit_flat, np_crop_func_flat)\n",
    "mi_tree_edit = mutual_info_score(np_tree_edit_flat, np_crop_func_flat)"
   ]
  },
  {
   "cell_type": "code",
   "execution_count": 21,
   "metadata": {},
   "outputs": [],
   "source": [
    "corr_approx = np.corrcoef(np_approx_entire_flat,np_crop_func_flat)[0,1]\n",
    "corr_gurobi = np.corrcoef(np_gurobi_entire_flat,np_crop_func_flat)[0,1]\n",
    "corr_tree_edit = np.corrcoef(np_tree_edit_flat,np_crop_func_flat)[0,1]"
   ]
  },
  {
   "cell_type": "code",
   "execution_count": 22,
   "metadata": {},
   "outputs": [],
   "source": [
    "frobenius_approx = LA.norm(dist_approx)\n",
    "frobenius_gurobi = LA.norm(dist_gurobi)\n",
    "frobenius_tree_edit = LA.norm(dist_tree_edit)"
   ]
  },
  {
   "cell_type": "code",
   "execution_count": 23,
   "metadata": {},
   "outputs": [],
   "source": [
    "summary_df = pd.DataFrame(np.array([[mi_approx, mi_gurobi, mi_tree_edit], [norm_mi_approx, norm_mi_gurobi, norm_mi_tree_edit], [adjusted_mi_approx, adjusted_mi_gurobi, adjusted_mi_tree_edit], [corr_approx, corr_gurobi, corr_tree_edit], [frobenius_approx, frobenius_gurobi, frobenius_tree_edit]]), columns=['approx', 'gurobi', 'tree edit'], index=['mi', 'normalized mi', 'adjusted mi', 'correlation coeff', 'frobenius of dist'])"
   ]
  },
  {
   "cell_type": "code",
   "execution_count": 24,
   "metadata": {},
   "outputs": [
    {
     "data": {
      "text/html": [
       "<div>\n",
       "<style scoped>\n",
       "    .dataframe tbody tr th:only-of-type {\n",
       "        vertical-align: middle;\n",
       "    }\n",
       "\n",
       "    .dataframe tbody tr th {\n",
       "        vertical-align: top;\n",
       "    }\n",
       "\n",
       "    .dataframe thead th {\n",
       "        text-align: right;\n",
       "    }\n",
       "</style>\n",
       "<table border=\"1\" class=\"dataframe\">\n",
       "  <thead>\n",
       "    <tr style=\"text-align: right;\">\n",
       "      <th></th>\n",
       "      <th>approx</th>\n",
       "      <th>gurobi</th>\n",
       "      <th>tree edit</th>\n",
       "    </tr>\n",
       "  </thead>\n",
       "  <tbody>\n",
       "    <tr>\n",
       "      <th>mi</th>\n",
       "      <td>0.021171</td>\n",
       "      <td>0.029058</td>\n",
       "      <td>0.104970</td>\n",
       "    </tr>\n",
       "    <tr>\n",
       "      <th>normalized mi</th>\n",
       "      <td>0.011517</td>\n",
       "      <td>0.014430</td>\n",
       "      <td>0.042055</td>\n",
       "    </tr>\n",
       "    <tr>\n",
       "      <th>adjusted mi</th>\n",
       "      <td>0.008014</td>\n",
       "      <td>0.010401</td>\n",
       "      <td>0.035793</td>\n",
       "    </tr>\n",
       "    <tr>\n",
       "      <th>correlation coeff</th>\n",
       "      <td>0.132672</td>\n",
       "      <td>0.120689</td>\n",
       "      <td>0.247642</td>\n",
       "    </tr>\n",
       "    <tr>\n",
       "      <th>frobenius of dist</th>\n",
       "      <td>1466.148355</td>\n",
       "      <td>2175.703564</td>\n",
       "      <td>9239.195311</td>\n",
       "    </tr>\n",
       "  </tbody>\n",
       "</table>\n",
       "</div>"
      ],
      "text/plain": [
       "                        approx       gurobi    tree edit\n",
       "mi                    0.021171     0.029058     0.104970\n",
       "normalized mi         0.011517     0.014430     0.042055\n",
       "adjusted mi           0.008014     0.010401     0.035793\n",
       "correlation coeff     0.132672     0.120689     0.247642\n",
       "frobenius of dist  1466.148355  2175.703564  9239.195311"
      ]
     },
     "execution_count": 24,
     "metadata": {},
     "output_type": "execute_result"
    }
   ],
   "source": [
    "summary_df"
   ]
  },
  {
   "cell_type": "code",
   "execution_count": 25,
   "metadata": {},
   "outputs": [],
   "source": [
    "##### now normalized ####"
   ]
  },
  {
   "cell_type": "code",
   "execution_count": 37,
   "metadata": {},
   "outputs": [],
   "source": [
    "df_approx = pd.read_csv (r'normalized_approx.csv', index_col=0)\n",
    "df_gurobi = pd.read_csv (r'normalized_gurobi.csv', index_col=0)\n",
    "df_tree_edit = pd.read_csv(r'df_tree_edit_similarity.csv', index_col=0)         \n",
    "df_functional_matrix = pd.read_csv(r'functional_similarity_GO.csv', index_col=0)"
   ]
  },
  {
   "cell_type": "code",
   "execution_count": null,
   "metadata": {},
   "outputs": [],
   "source": []
  },
  {
   "cell_type": "code",
   "execution_count": 38,
   "metadata": {},
   "outputs": [],
   "source": [
    "cropped_functional = df_functional_matrix[df_matrix_approx_entire.index].loc[df_matrix_approx_entire.index]"
   ]
  },
  {
   "cell_type": "code",
   "execution_count": 39,
   "metadata": {},
   "outputs": [],
   "source": [
    "np_gurobi = df_gurobi.to_numpy().flatten()\n",
    "np_approx = df_approx.to_numpy().flatten()\n",
    "np_tree_edit_flat = df_tree_edit.to_numpy().flatten()\n",
    "np_crop_func_flat = cropped_functional.to_numpy().flatten()\n",
    "\n",
    "dist_approx = df_approx.to_numpy() - cropped_functional.to_numpy()\n",
    "dist_gurobi = df_gurobi.to_numpy() - cropped_functional.to_numpy()\n",
    "dist_tree_edit = df_tree_edit.to_numpy() - cropped_functional.to_numpy()"
   ]
  },
  {
   "cell_type": "code",
   "execution_count": 44,
   "metadata": {},
   "outputs": [
    {
     "name": "stderr",
     "output_type": "stream",
     "text": [
      "/home/jana/anaconda3/lib/python3.8/site-packages/sklearn/metrics/cluster/_supervised.py:58: UserWarning: Clustering metrics expects discrete values but received continuous values for label, and binary values for target\n",
      "  warnings.warn(msg, UserWarning)\n",
      "/home/jana/anaconda3/lib/python3.8/site-packages/sklearn/metrics/cluster/_supervised.py:58: UserWarning: Clustering metrics expects discrete values but received continuous values for label, and binary values for target\n",
      "  warnings.warn(msg, UserWarning)\n",
      "/home/jana/anaconda3/lib/python3.8/site-packages/sklearn/metrics/cluster/_supervised.py:58: UserWarning: Clustering metrics expects discrete values but received continuous values for label, and binary values for target\n",
      "  warnings.warn(msg, UserWarning)\n",
      "/home/jana/anaconda3/lib/python3.8/site-packages/sklearn/metrics/cluster/_supervised.py:58: UserWarning: Clustering metrics expects discrete values but received continuous values for label, and binary values for target\n",
      "  warnings.warn(msg, UserWarning)\n",
      "/home/jana/anaconda3/lib/python3.8/site-packages/sklearn/metrics/cluster/_supervised.py:58: UserWarning: Clustering metrics expects discrete values but received continuous values for label, and binary values for target\n",
      "  warnings.warn(msg, UserWarning)\n",
      "/home/jana/anaconda3/lib/python3.8/site-packages/sklearn/metrics/cluster/_supervised.py:58: UserWarning: Clustering metrics expects discrete values but received continuous values for label, and binary values for target\n",
      "  warnings.warn(msg, UserWarning)\n"
     ]
    }
   ],
   "source": [
    "norm_mi_approx = normalized_mutual_info_score(np_approx, np_crop_func_flat)\n",
    "adjusted_mi_approx = adjusted_mutual_info_score(np_approx, np_crop_func_flat)\n",
    "mi_approx = mutual_info_score(np_approx, np_crop_func_flat)\n",
    "\n",
    "norm_mi_gurobi = normalized_mutual_info_score(np_gurobi, np_crop_func_flat)\n",
    "adjusted_mi_gurobi = adjusted_mutual_info_score(np_gurobi, np_crop_func_flat)\n",
    "mi_gurobi = mutual_info_score(np_gurobi, np_crop_func_flat)\n",
    "\n",
    "norm_mi_tree_edit = normalized_mutual_info_score(np_tree_edit_flat, np_crop_func_flat)\n",
    "adjusted_mi_tree_edit = adjusted_mutual_info_score(np_tree_edit_flat, np_crop_func_flat)\n",
    "mi_tree_edit = mutual_info_score(np_tree_edit_flat, np_crop_func_flat)\n",
    "\n",
    "corr_approx = np.corrcoef(np_approx,np_crop_func_flat)[0,1]\n",
    "corr_gurobi = np.corrcoef(np_gurobi,np_crop_func_flat)[0,1]\n",
    "corr_tree_edit = np.corrcoef(np_tree_edit_flat,np_crop_func_flat)[0,1]\n",
    "\n",
    "frobenius_approx = LA.norm(dist_approx)\n",
    "frobenius_gurobi = LA.norm(dist_gurobi)\n",
    "frobenius_tree_edit = LA.norm(dist_tree_edit)"
   ]
  },
  {
   "cell_type": "code",
   "execution_count": 42,
   "metadata": {},
   "outputs": [],
   "source": [
    "summary_df = pd.DataFrame(np.array([[mi_approx, mi_gurobi, mi_tree_edit], [norm_mi_approx, norm_mi_gurobi, norm_mi_tree_edit], [adjusted_mi_approx, adjusted_mi_gurobi, adjusted_mi_tree_edit], [corr_approx, corr_gurobi, corr_tree_edit], [frobenius_approx, frobenius_gurobi, frobenius_tree_edit]]), columns=['approx', 'gurobi', 'tree edit'], index=['mi', 'normalized mi', 'adjusted mi', 'correlation coeff', 'frobenius of dist'])"
   ]
  },
  {
   "cell_type": "code",
   "execution_count": 43,
   "metadata": {},
   "outputs": [
    {
     "data": {
      "text/html": [
       "<div>\n",
       "<style scoped>\n",
       "    .dataframe tbody tr th:only-of-type {\n",
       "        vertical-align: middle;\n",
       "    }\n",
       "\n",
       "    .dataframe tbody tr th {\n",
       "        vertical-align: top;\n",
       "    }\n",
       "\n",
       "    .dataframe thead th {\n",
       "        text-align: right;\n",
       "    }\n",
       "</style>\n",
       "<table border=\"1\" class=\"dataframe\">\n",
       "  <thead>\n",
       "    <tr style=\"text-align: right;\">\n",
       "      <th></th>\n",
       "      <th>approx</th>\n",
       "      <th>gurobi</th>\n",
       "      <th>tree edit</th>\n",
       "    </tr>\n",
       "  </thead>\n",
       "  <tbody>\n",
       "    <tr>\n",
       "      <th>mi</th>\n",
       "      <td>0.195201</td>\n",
       "      <td>0.234876</td>\n",
       "      <td>0.104970</td>\n",
       "    </tr>\n",
       "    <tr>\n",
       "      <th>normalized mi</th>\n",
       "      <td>0.060726</td>\n",
       "      <td>0.070811</td>\n",
       "      <td>0.042055</td>\n",
       "    </tr>\n",
       "    <tr>\n",
       "      <th>adjusted mi</th>\n",
       "      <td>0.040633</td>\n",
       "      <td>0.048536</td>\n",
       "      <td>0.035793</td>\n",
       "    </tr>\n",
       "    <tr>\n",
       "      <th>correlation coeff</th>\n",
       "      <td>0.286788</td>\n",
       "      <td>0.289271</td>\n",
       "      <td>0.247642</td>\n",
       "    </tr>\n",
       "    <tr>\n",
       "      <th>frobenius of dist</th>\n",
       "      <td>26.486498</td>\n",
       "      <td>26.332980</td>\n",
       "      <td>9239.195311</td>\n",
       "    </tr>\n",
       "  </tbody>\n",
       "</table>\n",
       "</div>"
      ],
      "text/plain": [
       "                      approx     gurobi    tree edit\n",
       "mi                  0.195201   0.234876     0.104970\n",
       "normalized mi       0.060726   0.070811     0.042055\n",
       "adjusted mi         0.040633   0.048536     0.035793\n",
       "correlation coeff   0.286788   0.289271     0.247642\n",
       "frobenius of dist  26.486498  26.332980  9239.195311"
      ]
     },
     "execution_count": 43,
     "metadata": {},
     "output_type": "execute_result"
    }
   ],
   "source": [
    "summary_df"
   ]
  },
  {
   "cell_type": "code",
   "execution_count": null,
   "metadata": {},
   "outputs": [],
   "source": [
    "####   empiric approx ratios ####"
   ]
  },
  {
   "cell_type": "code",
   "execution_count": 61,
   "metadata": {},
   "outputs": [],
   "source": [
    "ratios = np_gurobi / np_approx"
   ]
  },
  {
   "cell_type": "code",
   "execution_count": 62,
   "metadata": {},
   "outputs": [
    {
     "data": {
      "image/png": "[encoded data removed]",
      "text/plain": [
       "<Figure size 720x504 with 1 Axes>"
      ]
     },
     "metadata": {
      "needs_background": "light"
     },
     "output_type": "display_data"
    }
   ],
   "source": [
    "fig = plt.figure(figsize =(10, 7))\n",
    " \n",
    "# Creating plot\n",
    "plt.boxplot(ratios)\n",
    " \n",
    "# show plot\n",
    "plt.show()"
   ]
  },
  {
   "cell_type": "code",
   "execution_count": 63,
   "metadata": {},
   "outputs": [],
   "source": [
    "####    scalability tests preparation    #####"
   ]
  },
  {
   "cell_type": "code",
   "execution_count": 8,
   "metadata": {},
   "outputs": [],
   "source": [
    "### make pruefercode with max n\n",
    "\n",
    "def get_pruefer(min_n=0, max_n=10, len=8):\n",
    "    return list(np.random.randint(low=min_n, high=(max_n), size=(len)))"
   ]
  },
  {
   "cell_type": "code",
   "execution_count": 7,
   "metadata": {},
   "outputs": [],
   "source": [
    "### make tree from pruefercode\n",
    "\n",
    "def get_pruefer_tree(pruefer_code):\n",
    "    return nx.from_prufer_sequence(pruefer_code)"
   ]
  },
  {
   "cell_type": "code",
   "execution_count": 11,
   "metadata": {},
   "outputs": [],
   "source": [
    "### make pruefercodes\n",
    "### gets:       max_n - maximum height of any generated tree\n",
    "### returns:    array of size (10,10) - 10 buckets of equal size from 5 to max_n (bucket list)\n",
    "#                                     - with each: 10 random pruefer trees with height drawn with replacement from bucket list\n",
    "\n",
    "def get_random_pruefer_trees(max_n):\n",
    "\n",
    "    # split 1 to max_n in 10 buckets\n",
    "    splitting = np.linspace(1, max_n, num=6).astype(int)\n",
    "    print(splitting)\n",
    "\n",
    "    helper_list = []\n",
    "    # draw 5 times with replacement to get random list of max_n for each bucket\n",
    "    for i in range(5):\n",
    "        random_list = get_pruefer(min_n=splitting[i]+1, max_n=splitting[i+1]+1, len=5)\n",
    "        print(random_list)\n",
    "\n",
    "        #create pruefer codes and trees for each max_n in random_list\n",
    "        i_helper_list = []\n",
    "        for m_n in random_list:\n",
    "            pruefer_code = get_pruefer(max_n=m_n+1, len=(m_n-1))\n",
    "            print(\"max_n\", m_n)\n",
    "            print(len(pruefer_code))\n",
    "            pruefer_tree = get_pruefer_tree(pruefer_code)\n",
    "            print(pruefer_tree.size())\n",
    "\n",
    "            #adjust labels and directedness of the trees\n",
    "            nx.set_node_attributes(pruefer_tree, \"A\", \"lbl\")\n",
    "            pruefer_tree = pruefer_tree.to_directed()\n",
    "\n",
    "            #print(\"test\")\n",
    "            i_helper_list.append(pruefer_tree)\n",
    "        helper_list.append(np.array(i_helper_list, dtype=object))\n",
    "\n",
    "    random_pruefer_tree_array = np.array(helper_list, dtype=object)\n",
    "    return random_pruefer_tree_array"
   ]
  },
  {
   "cell_type": "code",
   "execution_count": 12,
   "metadata": {},
   "outputs": [
    {
     "name": "stdout",
     "output_type": "stream",
     "text": [
      "[  1  20  40  60  80 100]\n",
      "[18, 13, 2, 14, 15]\n",
      "max_n 18\n",
      "17\n",
      "18\n",
      "max_n 13\n",
      "12\n",
      "13\n",
      "max_n 2\n",
      "1\n",
      "2\n",
      "max_n 14\n",
      "13\n",
      "14\n",
      "max_n 15\n",
      "14\n",
      "15\n",
      "[27, 23, 21, 30, 38]\n",
      "max_n 27\n",
      "26\n",
      "27\n",
      "max_n 23\n",
      "22\n",
      "23\n",
      "max_n 21\n",
      "20\n",
      "21\n",
      "max_n 30\n",
      "29\n",
      "30\n",
      "max_n 38\n",
      "37\n",
      "38\n",
      "[42, 57, 58, 60, 42]\n",
      "max_n 42\n",
      "41\n",
      "42\n",
      "max_n 57\n",
      "56\n",
      "57\n",
      "max_n 58\n",
      "57\n",
      "58\n",
      "max_n 60\n",
      "59\n",
      "60\n",
      "max_n 42\n",
      "41\n",
      "42\n",
      "[69, 72, 70, 74, 68]\n",
      "max_n 69\n",
      "68\n",
      "69\n",
      "max_n 72\n",
      "71\n",
      "72\n",
      "max_n 70\n",
      "69\n",
      "70\n",
      "max_n 74\n",
      "73\n",
      "74\n",
      "max_n 68\n",
      "67\n",
      "68\n",
      "[82, 90, 95, 96, 89]\n",
      "max_n 82\n",
      "81\n",
      "82\n",
      "max_n 90\n",
      "89\n",
      "90\n",
      "max_n 95\n",
      "94\n",
      "95\n",
      "max_n 96\n",
      "95\n",
      "96\n",
      "max_n 89\n",
      "88\n",
      "89\n"
     ]
    }
   ],
   "source": [
    "#safe the random prufer code trees in blocks \n",
    "\n",
    "max_n = 100\n",
    "#tree_array = get_random_pruefer_trees(max_n)\n",
    "\n",
    "path = \"/home/jana/Documents/BIONETs/Code/tree_match_approx_validator/all_other_data/scalability_trees/tree_blocks\"\n",
    "\n",
    "tree_array = get_random_pruefer_trees(max_n)\n",
    "\n",
    "for i in range(tree_array[0].size):\n",
    "    #determine the name of the folder\n",
    "    max_n = (i+1)*20\n",
    "    folder_path = path + \"/\" + str(max_n)\n",
    "    os.mkdir(folder_path)\n",
    "    #make folder\n",
    "    for j in range(tree_array[0].size):\n",
    "        #determine the name of the file\n",
    "        tree_folder_path = folder_path + \"/\" + str(max_n) + \"_\" + str(j)\n",
    "        os.mkdir(tree_folder_path)\n",
    "        tree_path = tree_folder_path + '/1.gml'\n",
    "        #safe file\n",
    "        nx.write_gml(tree_array[i][j], tree_path)\n",
    "\n"
   ]
  },
  {
   "cell_type": "code",
   "execution_count": 53,
   "metadata": {},
   "outputs": [],
   "source": []
  },
  {
   "cell_type": "code",
   "execution_count": 8,
   "metadata": {},
   "outputs": [],
   "source": [
    "#make and safe tree_count prufer code trees of max_n for testing purposes and safe in rigt data format to path\n",
    "\n",
    "max_n = 30\n",
    "tree_count = 10\n",
    "path = \"/home/jana/Documents/BIONETs/Code/tree_match_approx_validator/all_other_data/scalability_trees/max_n_\" + str(max_n) + \"_trees/\"\n",
    "\n",
    "for i in range(tree_count):\n",
    "    os.mkdir(path + '/max_n_' + str(max_n) +'_'+ str(i))\n",
    "    tree_path = path + '/max_n_' + str(max_n) +'_'+ str(i) + '/1.gml'\n",
    "    prufer = get_pruefer(max_n=max_n)\n",
    "    tree = get_pruefer_tree(prufer)\n",
    "    nx.set_node_attributes(tree, \"A\", \"lbl\")\n",
    "    tree = tree.to_directed()\n",
    "    nx.write_gml(tree, tree_path)"
   ]
  },
  {
   "cell_type": "code",
   "execution_count": null,
   "metadata": {},
   "outputs": [],
   "source": []
  },
  {
   "cell_type": "code",
   "execution_count": 15,
   "metadata": {},
   "outputs": [],
   "source": [
    "#try reading in the files to check for right data format for exact and approx measure\n",
    "\n",
    "path = \"/home/jana/Documents/BIONETs/Code/tree_match_approx_validator/all_other_data/scalability_trees/tree_blocks/20\"\n",
    "def get_graph_coll(path):\n",
    "    graph_coll=[]\n",
    "    listdir=os.listdir(path)\n",
    "    for dire in listdir:\n",
    "        print('dire: ', dire)\n",
    "        graph_coll.append([])\n",
    "        graphdir=os.listdir(path+'/'+dire)\n",
    "        for graph_file in graphdir:\n",
    "            print('file: ', graph_file)\n",
    "            graph_coll[-1].append(nx.readwrite.gml.read_gml(path+'/'+dire+'/'+graph_file,label='id'))\n",
    "    return graph_coll"
   ]
  },
  {
   "cell_type": "code",
   "execution_count": 16,
   "metadata": {},
   "outputs": [
    {
     "name": "stdout",
     "output_type": "stream",
     "text": [
      "big_dire:  20\n",
      "dire:  20_1\n",
      "file:  1.gml\n",
      "dire:  20_3\n",
      "file:  3.gml\n",
      "dire:  20_4\n",
      "file:  4.gml\n",
      "dire:  20_2\n",
      "file:  2.gml\n",
      "dire:  20_0\n",
      "file:  0.gml\n",
      "big_dire:  40\n",
      "dire:  40_0\n",
      "file:  0.gml\n",
      "dire:  40_3\n",
      "file:  3.gml\n",
      "dire:  40_4\n",
      "file:  4.gml\n",
      "dire:  40_2\n",
      "file:  2.gml\n",
      "dire:  40_1\n",
      "file:  1.gml\n",
      "big_dire:  80\n",
      "dire:  80_3\n",
      "file:  3.gml\n",
      "dire:  80_0\n",
      "file:  0.gml\n",
      "dire:  80_2\n",
      "file:  2.gml\n",
      "dire:  80_4\n",
      "file:  4.gml\n",
      "dire:  80_1\n",
      "file:  1.gml\n",
      "big_dire:  100\n",
      "dire:  100_0\n",
      "file:  0.gml\n",
      "dire:  100_4\n",
      "file:  4.gml\n",
      "dire:  100_3\n",
      "file:  3.gml\n",
      "dire:  100_1\n",
      "file:  1.gml\n",
      "dire:  100_2\n",
      "file:  2.gml\n",
      "big_dire:  60\n",
      "dire:  60_2\n",
      "file:  2.gml\n",
      "dire:  60_3\n",
      "file:  3.gml\n",
      "dire:  60_0\n",
      "file:  0.gml\n",
      "dire:  60_4\n",
      "file:  4.gml\n",
      "dire:  60_1\n",
      "file:  1.gml\n"
     ]
    }
   ],
   "source": [
    "#try reading in the files to check for right data format for exact and approx measure\n",
    "\n",
    "path = \"/home/jana/Documents/BIONETs/Code/tree_match_approx_validator/all_other_data/scalability_trees/tree_blocks_gml\"\n",
    "\n",
    "graph_coll = []\n",
    "listdir=os.listdir(path)\n",
    "for dire in listdir:\n",
    "    print('big_dire: ', dire)\n",
    "    block_dir= path + '/' + dire\n",
    "    block_graph_coll = get_graph_coll(block_dir)\n",
    "    graph_coll.append(block_graph_coll)"
   ]
  },
  {
   "cell_type": "code",
   "execution_count": 19,
   "metadata": {},
   "outputs": [
    {
     "data": {
      "text/plain": [
       "[[<networkx.classes.digraph.DiGraph at 0x7f3bb038e970>],\n",
       " [<networkx.classes.digraph.DiGraph at 0x7f3bca6c3e80>],\n",
       " [<networkx.classes.digraph.DiGraph at 0x7f3bb038ecd0>],\n",
       " [<networkx.classes.digraph.DiGraph at 0x7f3bb038ea60>],\n",
       " [<networkx.classes.digraph.DiGraph at 0x7f3bb038e370>]]"
      ]
     },
     "execution_count": 19,
     "metadata": {},
     "output_type": "execute_result"
    }
   ],
   "source": [
    "graph_coll[0]"
   ]
  },
  {
   "cell_type": "code",
   "execution_count": 138,
   "metadata": {},
   "outputs": [
    {
     "data": {
      "text/plain": [
       "['20', '40', '80', '100', '60']"
      ]
     },
     "execution_count": 138,
     "metadata": {},
     "output_type": "execute_result"
    }
   ],
   "source": [
    "listdir"
   ]
  },
  {
   "cell_type": "code",
   "execution_count": 96,
   "metadata": {},
   "outputs": [],
   "source": [
    "df_approx = pd.read_csv (r'/home/jana/Documents/BIONETs/Code/tree_match_approx_validator/final_results_data/data/normalized_approx.csv', index_col=0)"
   ]
  },
  {
   "cell_type": "code",
   "execution_count": 97,
   "metadata": {},
   "outputs": [
    {
     "data": {
      "text/html": [
       "<div>\n",
       "<style scoped>\n",
       "    .dataframe tbody tr th:only-of-type {\n",
       "        vertical-align: middle;\n",
       "    }\n",
       "\n",
       "    .dataframe tbody tr th {\n",
       "        vertical-align: top;\n",
       "    }\n",
       "\n",
       "    .dataframe thead th {\n",
       "        text-align: right;\n",
       "    }\n",
       "</style>\n",
       "<table border=\"1\" class=\"dataframe\">\n",
       "  <thead>\n",
       "    <tr style=\"text-align: right;\">\n",
       "      <th></th>\n",
       "      <th>PKB4</th>\n",
       "      <th>PKB6</th>\n",
       "      <th>PKB7</th>\n",
       "      <th>PKB8</th>\n",
       "      <th>PKB9</th>\n",
       "      <th>PKB10</th>\n",
       "      <th>PKB11</th>\n",
       "      <th>PKB13</th>\n",
       "      <th>PKB14</th>\n",
       "      <th>PKB15</th>\n",
       "      <th>...</th>\n",
       "      <th>PKB206</th>\n",
       "      <th>PKB207</th>\n",
       "      <th>PKB218</th>\n",
       "      <th>PKB233</th>\n",
       "      <th>PKB236</th>\n",
       "      <th>PKB240</th>\n",
       "      <th>PKB241</th>\n",
       "      <th>PKB242</th>\n",
       "      <th>PKB247</th>\n",
       "      <th>PKB248</th>\n",
       "    </tr>\n",
       "  </thead>\n",
       "  <tbody>\n",
       "    <tr>\n",
       "      <th>PKB4</th>\n",
       "      <td>0.688525</td>\n",
       "      <td>0.004300</td>\n",
       "      <td>0.004300</td>\n",
       "      <td>0.004300</td>\n",
       "      <td>0.004300</td>\n",
       "      <td>0.004569</td>\n",
       "      <td>0.004031</td>\n",
       "      <td>0.004569</td>\n",
       "      <td>0.004569</td>\n",
       "      <td>0.004300</td>\n",
       "      <td>...</td>\n",
       "      <td>0.004569</td>\n",
       "      <td>0.005644</td>\n",
       "      <td>0.002898</td>\n",
       "      <td>0.003086</td>\n",
       "      <td>0.001016</td>\n",
       "      <td>0.005644</td>\n",
       "      <td>0.004300</td>\n",
       "      <td>0.003762</td>\n",
       "      <td>0.002956</td>\n",
       "      <td>0.002768</td>\n",
       "    </tr>\n",
       "    <tr>\n",
       "      <th>PKB6</th>\n",
       "      <td>0.004300</td>\n",
       "      <td>0.764706</td>\n",
       "      <td>0.009227</td>\n",
       "      <td>0.007689</td>\n",
       "      <td>0.014994</td>\n",
       "      <td>0.008074</td>\n",
       "      <td>0.009612</td>\n",
       "      <td>0.013072</td>\n",
       "      <td>0.008074</td>\n",
       "      <td>0.007689</td>\n",
       "      <td>...</td>\n",
       "      <td>0.005421</td>\n",
       "      <td>0.004309</td>\n",
       "      <td>0.002294</td>\n",
       "      <td>0.002346</td>\n",
       "      <td>0.000898</td>\n",
       "      <td>0.006151</td>\n",
       "      <td>0.005767</td>\n",
       "      <td>0.006536</td>\n",
       "      <td>0.004614</td>\n",
       "      <td>0.003045</td>\n",
       "    </tr>\n",
       "    <tr>\n",
       "      <th>PKB7</th>\n",
       "      <td>0.004300</td>\n",
       "      <td>0.009227</td>\n",
       "      <td>0.882353</td>\n",
       "      <td>0.008843</td>\n",
       "      <td>0.009227</td>\n",
       "      <td>0.007305</td>\n",
       "      <td>0.008843</td>\n",
       "      <td>0.011534</td>\n",
       "      <td>0.008458</td>\n",
       "      <td>0.009612</td>\n",
       "      <td>...</td>\n",
       "      <td>0.004783</td>\n",
       "      <td>0.004309</td>\n",
       "      <td>0.002415</td>\n",
       "      <td>0.002469</td>\n",
       "      <td>0.000859</td>\n",
       "      <td>0.005767</td>\n",
       "      <td>0.004998</td>\n",
       "      <td>0.005767</td>\n",
       "      <td>0.004998</td>\n",
       "      <td>0.002768</td>\n",
       "    </tr>\n",
       "    <tr>\n",
       "      <th>PKB8</th>\n",
       "      <td>0.004300</td>\n",
       "      <td>0.007689</td>\n",
       "      <td>0.008843</td>\n",
       "      <td>0.755102</td>\n",
       "      <td>0.007689</td>\n",
       "      <td>0.010829</td>\n",
       "      <td>0.007305</td>\n",
       "      <td>0.007689</td>\n",
       "      <td>0.010412</td>\n",
       "      <td>0.011600</td>\n",
       "      <td>...</td>\n",
       "      <td>0.004783</td>\n",
       "      <td>0.005232</td>\n",
       "      <td>0.002415</td>\n",
       "      <td>0.002593</td>\n",
       "      <td>0.000898</td>\n",
       "      <td>0.006247</td>\n",
       "      <td>0.005831</td>\n",
       "      <td>0.006664</td>\n",
       "      <td>0.004998</td>\n",
       "      <td>0.002630</td>\n",
       "    </tr>\n",
       "    <tr>\n",
       "      <th>PKB9</th>\n",
       "      <td>0.004300</td>\n",
       "      <td>0.014994</td>\n",
       "      <td>0.009227</td>\n",
       "      <td>0.007689</td>\n",
       "      <td>0.764706</td>\n",
       "      <td>0.008074</td>\n",
       "      <td>0.009612</td>\n",
       "      <td>0.013072</td>\n",
       "      <td>0.008074</td>\n",
       "      <td>0.007689</td>\n",
       "      <td>...</td>\n",
       "      <td>0.005421</td>\n",
       "      <td>0.004309</td>\n",
       "      <td>0.002294</td>\n",
       "      <td>0.002346</td>\n",
       "      <td>0.000898</td>\n",
       "      <td>0.006151</td>\n",
       "      <td>0.005767</td>\n",
       "      <td>0.006536</td>\n",
       "      <td>0.004614</td>\n",
       "      <td>0.003045</td>\n",
       "    </tr>\n",
       "    <tr>\n",
       "      <th>...</th>\n",
       "      <td>...</td>\n",
       "      <td>...</td>\n",
       "      <td>...</td>\n",
       "      <td>...</td>\n",
       "      <td>...</td>\n",
       "      <td>...</td>\n",
       "      <td>...</td>\n",
       "      <td>...</td>\n",
       "      <td>...</td>\n",
       "      <td>...</td>\n",
       "      <td>...</td>\n",
       "      <td>...</td>\n",
       "      <td>...</td>\n",
       "      <td>...</td>\n",
       "      <td>...</td>\n",
       "      <td>...</td>\n",
       "      <td>...</td>\n",
       "      <td>...</td>\n",
       "      <td>...</td>\n",
       "      <td>...</td>\n",
       "      <td>...</td>\n",
       "    </tr>\n",
       "    <tr>\n",
       "      <th>PKB240</th>\n",
       "      <td>0.005644</td>\n",
       "      <td>0.006151</td>\n",
       "      <td>0.005767</td>\n",
       "      <td>0.006247</td>\n",
       "      <td>0.006151</td>\n",
       "      <td>0.005414</td>\n",
       "      <td>0.005383</td>\n",
       "      <td>0.006151</td>\n",
       "      <td>0.006664</td>\n",
       "      <td>0.006800</td>\n",
       "      <td>...</td>\n",
       "      <td>0.004145</td>\n",
       "      <td>0.004001</td>\n",
       "      <td>0.002777</td>\n",
       "      <td>0.002963</td>\n",
       "      <td>0.000859</td>\n",
       "      <td>0.673469</td>\n",
       "      <td>0.005831</td>\n",
       "      <td>0.005831</td>\n",
       "      <td>0.003748</td>\n",
       "      <td>0.002491</td>\n",
       "    </tr>\n",
       "    <tr>\n",
       "      <th>PKB241</th>\n",
       "      <td>0.004300</td>\n",
       "      <td>0.005767</td>\n",
       "      <td>0.004998</td>\n",
       "      <td>0.005831</td>\n",
       "      <td>0.005767</td>\n",
       "      <td>0.006247</td>\n",
       "      <td>0.006920</td>\n",
       "      <td>0.006920</td>\n",
       "      <td>0.005414</td>\n",
       "      <td>0.004000</td>\n",
       "      <td>...</td>\n",
       "      <td>0.003508</td>\n",
       "      <td>0.004309</td>\n",
       "      <td>0.002657</td>\n",
       "      <td>0.002346</td>\n",
       "      <td>0.000781</td>\n",
       "      <td>0.005831</td>\n",
       "      <td>0.711111</td>\n",
       "      <td>0.008507</td>\n",
       "      <td>0.004444</td>\n",
       "      <td>0.002353</td>\n",
       "    </tr>\n",
       "    <tr>\n",
       "      <th>PKB242</th>\n",
       "      <td>0.003762</td>\n",
       "      <td>0.006536</td>\n",
       "      <td>0.005767</td>\n",
       "      <td>0.006664</td>\n",
       "      <td>0.006536</td>\n",
       "      <td>0.006664</td>\n",
       "      <td>0.005767</td>\n",
       "      <td>0.006920</td>\n",
       "      <td>0.005831</td>\n",
       "      <td>0.006000</td>\n",
       "      <td>...</td>\n",
       "      <td>0.004145</td>\n",
       "      <td>0.004001</td>\n",
       "      <td>0.002174</td>\n",
       "      <td>0.002099</td>\n",
       "      <td>0.000781</td>\n",
       "      <td>0.005831</td>\n",
       "      <td>0.008507</td>\n",
       "      <td>0.826087</td>\n",
       "      <td>0.004253</td>\n",
       "      <td>0.002353</td>\n",
       "    </tr>\n",
       "    <tr>\n",
       "      <th>PKB247</th>\n",
       "      <td>0.002956</td>\n",
       "      <td>0.004614</td>\n",
       "      <td>0.004998</td>\n",
       "      <td>0.004998</td>\n",
       "      <td>0.004614</td>\n",
       "      <td>0.005414</td>\n",
       "      <td>0.004229</td>\n",
       "      <td>0.004229</td>\n",
       "      <td>0.004581</td>\n",
       "      <td>0.004800</td>\n",
       "      <td>...</td>\n",
       "      <td>0.003827</td>\n",
       "      <td>0.003693</td>\n",
       "      <td>0.001449</td>\n",
       "      <td>0.001481</td>\n",
       "      <td>0.000430</td>\n",
       "      <td>0.003748</td>\n",
       "      <td>0.004444</td>\n",
       "      <td>0.004253</td>\n",
       "      <td>0.896552</td>\n",
       "      <td>0.001799</td>\n",
       "    </tr>\n",
       "    <tr>\n",
       "      <th>PKB248</th>\n",
       "      <td>0.002768</td>\n",
       "      <td>0.003045</td>\n",
       "      <td>0.002768</td>\n",
       "      <td>0.002630</td>\n",
       "      <td>0.003045</td>\n",
       "      <td>0.002630</td>\n",
       "      <td>0.002491</td>\n",
       "      <td>0.002768</td>\n",
       "      <td>0.002353</td>\n",
       "      <td>0.002215</td>\n",
       "      <td>...</td>\n",
       "      <td>0.002353</td>\n",
       "      <td>0.002630</td>\n",
       "      <td>0.003623</td>\n",
       "      <td>0.003333</td>\n",
       "      <td>0.001523</td>\n",
       "      <td>0.002491</td>\n",
       "      <td>0.002353</td>\n",
       "      <td>0.002353</td>\n",
       "      <td>0.001799</td>\n",
       "      <td>0.705882</td>\n",
       "    </tr>\n",
       "  </tbody>\n",
       "</table>\n",
       "<p>72 rows × 72 columns</p>\n",
       "</div>"
      ],
      "text/plain": [
       "            PKB4      PKB6      PKB7      PKB8      PKB9     PKB10     PKB11  \\\n",
       "PKB4    0.688525  0.004300  0.004300  0.004300  0.004300  0.004569  0.004031   \n",
       "PKB6    0.004300  0.764706  0.009227  0.007689  0.014994  0.008074  0.009612   \n",
       "PKB7    0.004300  0.009227  0.882353  0.008843  0.009227  0.007305  0.008843   \n",
       "PKB8    0.004300  0.007689  0.008843  0.755102  0.007689  0.010829  0.007305   \n",
       "PKB9    0.004300  0.014994  0.009227  0.007689  0.764706  0.008074  0.009612   \n",
       "...          ...       ...       ...       ...       ...       ...       ...   \n",
       "PKB240  0.005644  0.006151  0.005767  0.006247  0.006151  0.005414  0.005383   \n",
       "PKB241  0.004300  0.005767  0.004998  0.005831  0.005767  0.006247  0.006920   \n",
       "PKB242  0.003762  0.006536  0.005767  0.006664  0.006536  0.006664  0.005767   \n",
       "PKB247  0.002956  0.004614  0.004998  0.004998  0.004614  0.005414  0.004229   \n",
       "PKB248  0.002768  0.003045  0.002768  0.002630  0.003045  0.002630  0.002491   \n",
       "\n",
       "           PKB13     PKB14     PKB15  ...    PKB206    PKB207    PKB218  \\\n",
       "PKB4    0.004569  0.004569  0.004300  ...  0.004569  0.005644  0.002898   \n",
       "PKB6    0.013072  0.008074  0.007689  ...  0.005421  0.004309  0.002294   \n",
       "PKB7    0.011534  0.008458  0.009612  ...  0.004783  0.004309  0.002415   \n",
       "PKB8    0.007689  0.010412  0.011600  ...  0.004783  0.005232  0.002415   \n",
       "PKB9    0.013072  0.008074  0.007689  ...  0.005421  0.004309  0.002294   \n",
       "...          ...       ...       ...  ...       ...       ...       ...   \n",
       "PKB240  0.006151  0.006664  0.006800  ...  0.004145  0.004001  0.002777   \n",
       "PKB241  0.006920  0.005414  0.004000  ...  0.003508  0.004309  0.002657   \n",
       "PKB242  0.006920  0.005831  0.006000  ...  0.004145  0.004001  0.002174   \n",
       "PKB247  0.004229  0.004581  0.004800  ...  0.003827  0.003693  0.001449   \n",
       "PKB248  0.002768  0.002353  0.002215  ...  0.002353  0.002630  0.003623   \n",
       "\n",
       "          PKB233    PKB236    PKB240    PKB241    PKB242    PKB247    PKB248  \n",
       "PKB4    0.003086  0.001016  0.005644  0.004300  0.003762  0.002956  0.002768  \n",
       "PKB6    0.002346  0.000898  0.006151  0.005767  0.006536  0.004614  0.003045  \n",
       "PKB7    0.002469  0.000859  0.005767  0.004998  0.005767  0.004998  0.002768  \n",
       "PKB8    0.002593  0.000898  0.006247  0.005831  0.006664  0.004998  0.002630  \n",
       "PKB9    0.002346  0.000898  0.006151  0.005767  0.006536  0.004614  0.003045  \n",
       "...          ...       ...       ...       ...       ...       ...       ...  \n",
       "PKB240  0.002963  0.000859  0.673469  0.005831  0.005831  0.003748  0.002491  \n",
       "PKB241  0.002346  0.000781  0.005831  0.711111  0.008507  0.004444  0.002353  \n",
       "PKB242  0.002099  0.000781  0.005831  0.008507  0.826087  0.004253  0.002353  \n",
       "PKB247  0.001481  0.000430  0.003748  0.004444  0.004253  0.896552  0.001799  \n",
       "PKB248  0.003333  0.001523  0.002491  0.002353  0.002353  0.001799  0.705882  \n",
       "\n",
       "[72 rows x 72 columns]"
      ]
     },
     "execution_count": 97,
     "metadata": {},
     "output_type": "execute_result"
    }
   ],
   "source": [
    "df_approx"
   ]
  },
  {
   "cell_type": "code",
   "execution_count": 99,
   "metadata": {},
   "outputs": [],
   "source": [
    "f= open(\"guru98.txt\",\"a\")\n",
    "dfAsString = df_approx.to_string()\n",
    "f.write(dfAsString)\n",
    "#for i in range(10):\n",
    " #    f.write(\"This is line %d\\r\\n\" % (i+1))\n",
    "f.close()"
   ]
  },
  {
   "cell_type": "code",
   "execution_count": 55,
   "metadata": {},
   "outputs": [],
   "source": [
    "from datetime import date, datetime\n",
    "\n",
    "today = date.today()"
   ]
  },
  {
   "cell_type": "code",
   "execution_count": 102,
   "metadata": {},
   "outputs": [
    {
     "data": {
      "text/plain": [
       "'Mar_08_2022'"
      ]
     },
     "execution_count": 102,
     "metadata": {},
     "output_type": "execute_result"
    }
   ],
   "source": [
    "today.strftime(\"%b_%d_%Y\")"
   ]
  },
  {
   "cell_type": "code",
   "execution_count": 58,
   "metadata": {},
   "outputs": [
    {
     "name": "stdout",
     "output_type": "stream",
     "text": [
      "Current Time = 12_08\n"
     ]
    }
   ],
   "source": [
    "now = datetime.now()\n",
    "\n",
    "current_time = now.strftime(\"%H_%M\")\n",
    "print(\"Current Time =\", current_time)"
   ]
  },
  {
   "cell_type": "code",
   "execution_count": 62,
   "metadata": {},
   "outputs": [],
   "source": [
    "a = pd.read_csv(r'/home/jana/Documents/BIONETs/Code/tree_match_approx_validator/all_other_data/scalability_trees/max_n_10_trees_results_Mar_15_2022-12_11/df_times_gurobi.csv', index_col=0)"
   ]
  },
  {
   "cell_type": "code",
   "execution_count": 63,
   "metadata": {},
   "outputs": [
    {
     "data": {
      "text/html": [
       "<div>\n",
       "<style scoped>\n",
       "    .dataframe tbody tr th:only-of-type {\n",
       "        vertical-align: middle;\n",
       "    }\n",
       "\n",
       "    .dataframe tbody tr th {\n",
       "        vertical-align: top;\n",
       "    }\n",
       "\n",
       "    .dataframe thead th {\n",
       "        text-align: right;\n",
       "    }\n",
       "</style>\n",
       "<table border=\"1\" class=\"dataframe\">\n",
       "  <thead>\n",
       "    <tr style=\"text-align: right;\">\n",
       "      <th></th>\n",
       "      <th>max_n_10_7</th>\n",
       "      <th>max_n_10_3</th>\n",
       "      <th>max_n_10_6</th>\n",
       "      <th>max_n_10_1</th>\n",
       "      <th>max_n_10_5</th>\n",
       "      <th>max_n_10_9</th>\n",
       "      <th>max_n_10_8</th>\n",
       "      <th>max_n_10_0</th>\n",
       "      <th>max_n_10_2</th>\n",
       "      <th>max_n_10_4</th>\n",
       "    </tr>\n",
       "  </thead>\n",
       "  <tbody>\n",
       "    <tr>\n",
       "      <th>max_n_10_7</th>\n",
       "      <td>0.026979</td>\n",
       "      <td>0.176254</td>\n",
       "      <td>0.207160</td>\n",
       "      <td>0.184549</td>\n",
       "      <td>0.267319</td>\n",
       "      <td>0.171379</td>\n",
       "      <td>0.307035</td>\n",
       "      <td>0.171519</td>\n",
       "      <td>0.054924</td>\n",
       "      <td>0.324131</td>\n",
       "    </tr>\n",
       "    <tr>\n",
       "      <th>max_n_10_3</th>\n",
       "      <td>0.454050</td>\n",
       "      <td>0.027729</td>\n",
       "      <td>0.228666</td>\n",
       "      <td>0.097951</td>\n",
       "      <td>0.121255</td>\n",
       "      <td>0.096768</td>\n",
       "      <td>0.312430</td>\n",
       "      <td>0.226852</td>\n",
       "      <td>0.466833</td>\n",
       "      <td>0.327159</td>\n",
       "    </tr>\n",
       "    <tr>\n",
       "      <th>max_n_10_6</th>\n",
       "      <td>0.071749</td>\n",
       "      <td>0.174121</td>\n",
       "      <td>0.055404</td>\n",
       "      <td>0.258985</td>\n",
       "      <td>0.285461</td>\n",
       "      <td>0.134028</td>\n",
       "      <td>0.075515</td>\n",
       "      <td>0.241159</td>\n",
       "      <td>0.205026</td>\n",
       "      <td>0.147814</td>\n",
       "    </tr>\n",
       "    <tr>\n",
       "      <th>max_n_10_1</th>\n",
       "      <td>0.116202</td>\n",
       "      <td>0.111901</td>\n",
       "      <td>0.126892</td>\n",
       "      <td>0.031524</td>\n",
       "      <td>0.092940</td>\n",
       "      <td>0.151493</td>\n",
       "      <td>0.310213</td>\n",
       "      <td>0.107482</td>\n",
       "      <td>0.170089</td>\n",
       "      <td>0.120198</td>\n",
       "    </tr>\n",
       "    <tr>\n",
       "      <th>max_n_10_5</th>\n",
       "      <td>0.309938</td>\n",
       "      <td>0.107039</td>\n",
       "      <td>0.153974</td>\n",
       "      <td>0.073281</td>\n",
       "      <td>0.066224</td>\n",
       "      <td>0.180387</td>\n",
       "      <td>0.195618</td>\n",
       "      <td>0.097849</td>\n",
       "      <td>0.176718</td>\n",
       "      <td>0.066534</td>\n",
       "    </tr>\n",
       "    <tr>\n",
       "      <th>max_n_10_9</th>\n",
       "      <td>0.070888</td>\n",
       "      <td>0.105299</td>\n",
       "      <td>0.281184</td>\n",
       "      <td>0.111137</td>\n",
       "      <td>0.101241</td>\n",
       "      <td>0.019482</td>\n",
       "      <td>0.371082</td>\n",
       "      <td>0.112218</td>\n",
       "      <td>0.129915</td>\n",
       "      <td>0.348776</td>\n",
       "    </tr>\n",
       "    <tr>\n",
       "      <th>max_n_10_8</th>\n",
       "      <td>0.453428</td>\n",
       "      <td>0.243026</td>\n",
       "      <td>0.065213</td>\n",
       "      <td>0.147926</td>\n",
       "      <td>0.198136</td>\n",
       "      <td>0.298846</td>\n",
       "      <td>0.064489</td>\n",
       "      <td>0.132632</td>\n",
       "      <td>0.371866</td>\n",
       "      <td>0.209067</td>\n",
       "    </tr>\n",
       "    <tr>\n",
       "      <th>max_n_10_0</th>\n",
       "      <td>0.113245</td>\n",
       "      <td>0.105865</td>\n",
       "      <td>0.318711</td>\n",
       "      <td>0.110608</td>\n",
       "      <td>0.118432</td>\n",
       "      <td>0.101765</td>\n",
       "      <td>0.324225</td>\n",
       "      <td>0.052569</td>\n",
       "      <td>0.073319</td>\n",
       "      <td>0.184547</td>\n",
       "    </tr>\n",
       "    <tr>\n",
       "      <th>max_n_10_2</th>\n",
       "      <td>0.110303</td>\n",
       "      <td>0.367295</td>\n",
       "      <td>0.132963</td>\n",
       "      <td>0.164725</td>\n",
       "      <td>0.172311</td>\n",
       "      <td>0.086022</td>\n",
       "      <td>0.246754</td>\n",
       "      <td>0.139488</td>\n",
       "      <td>0.057521</td>\n",
       "      <td>0.284830</td>\n",
       "    </tr>\n",
       "    <tr>\n",
       "      <th>max_n_10_4</th>\n",
       "      <td>0.136591</td>\n",
       "      <td>0.153718</td>\n",
       "      <td>0.130873</td>\n",
       "      <td>0.115085</td>\n",
       "      <td>0.064614</td>\n",
       "      <td>0.116574</td>\n",
       "      <td>0.139759</td>\n",
       "      <td>0.133284</td>\n",
       "      <td>0.136274</td>\n",
       "      <td>0.063686</td>\n",
       "    </tr>\n",
       "  </tbody>\n",
       "</table>\n",
       "</div>"
      ],
      "text/plain": [
       "            max_n_10_7  max_n_10_3  max_n_10_6  max_n_10_1  max_n_10_5  \\\n",
       "max_n_10_7    0.026979    0.176254    0.207160    0.184549    0.267319   \n",
       "max_n_10_3    0.454050    0.027729    0.228666    0.097951    0.121255   \n",
       "max_n_10_6    0.071749    0.174121    0.055404    0.258985    0.285461   \n",
       "max_n_10_1    0.116202    0.111901    0.126892    0.031524    0.092940   \n",
       "max_n_10_5    0.309938    0.107039    0.153974    0.073281    0.066224   \n",
       "max_n_10_9    0.070888    0.105299    0.281184    0.111137    0.101241   \n",
       "max_n_10_8    0.453428    0.243026    0.065213    0.147926    0.198136   \n",
       "max_n_10_0    0.113245    0.105865    0.318711    0.110608    0.118432   \n",
       "max_n_10_2    0.110303    0.367295    0.132963    0.164725    0.172311   \n",
       "max_n_10_4    0.136591    0.153718    0.130873    0.115085    0.064614   \n",
       "\n",
       "            max_n_10_9  max_n_10_8  max_n_10_0  max_n_10_2  max_n_10_4  \n",
       "max_n_10_7    0.171379    0.307035    0.171519    0.054924    0.324131  \n",
       "max_n_10_3    0.096768    0.312430    0.226852    0.466833    0.327159  \n",
       "max_n_10_6    0.134028    0.075515    0.241159    0.205026    0.147814  \n",
       "max_n_10_1    0.151493    0.310213    0.107482    0.170089    0.120198  \n",
       "max_n_10_5    0.180387    0.195618    0.097849    0.176718    0.066534  \n",
       "max_n_10_9    0.019482    0.371082    0.112218    0.129915    0.348776  \n",
       "max_n_10_8    0.298846    0.064489    0.132632    0.371866    0.209067  \n",
       "max_n_10_0    0.101765    0.324225    0.052569    0.073319    0.184547  \n",
       "max_n_10_2    0.086022    0.246754    0.139488    0.057521    0.284830  \n",
       "max_n_10_4    0.116574    0.139759    0.133284    0.136274    0.063686  "
      ]
     },
     "execution_count": 63,
     "metadata": {},
     "output_type": "execute_result"
    }
   ],
   "source": [
    "a"
   ]
  },
  {
   "cell_type": "code",
   "execution_count": 64,
   "metadata": {},
   "outputs": [],
   "source": [
    "a = pd.read_csv(r'/home/jana/Documents/BIONETs/Code/tree_match_approx_validator/all_other_data/scalability_trees/max_n_10_trees_results_Mar_15_2022-12_11/df_times_approx.csv', index_col=0)"
   ]
  },
  {
   "cell_type": "code",
   "execution_count": 65,
   "metadata": {},
   "outputs": [
    {
     "data": {
      "text/html": [
       "<div>\n",
       "<style scoped>\n",
       "    .dataframe tbody tr th:only-of-type {\n",
       "        vertical-align: middle;\n",
       "    }\n",
       "\n",
       "    .dataframe tbody tr th {\n",
       "        vertical-align: top;\n",
       "    }\n",
       "\n",
       "    .dataframe thead th {\n",
       "        text-align: right;\n",
       "    }\n",
       "</style>\n",
       "<table border=\"1\" class=\"dataframe\">\n",
       "  <thead>\n",
       "    <tr style=\"text-align: right;\">\n",
       "      <th></th>\n",
       "      <th>max_n_10_7</th>\n",
       "      <th>max_n_10_3</th>\n",
       "      <th>max_n_10_6</th>\n",
       "      <th>max_n_10_1</th>\n",
       "      <th>max_n_10_5</th>\n",
       "      <th>max_n_10_9</th>\n",
       "      <th>max_n_10_8</th>\n",
       "      <th>max_n_10_0</th>\n",
       "      <th>max_n_10_2</th>\n",
       "      <th>max_n_10_4</th>\n",
       "    </tr>\n",
       "  </thead>\n",
       "  <tbody>\n",
       "    <tr>\n",
       "      <th>max_n_10_7</th>\n",
       "      <td>0.009480</td>\n",
       "      <td>0.011935</td>\n",
       "      <td>0.011134</td>\n",
       "      <td>0.010679</td>\n",
       "      <td>0.012364</td>\n",
       "      <td>0.012114</td>\n",
       "      <td>0.012760</td>\n",
       "      <td>0.011483</td>\n",
       "      <td>0.011987</td>\n",
       "      <td>0.010828</td>\n",
       "    </tr>\n",
       "    <tr>\n",
       "      <th>max_n_10_3</th>\n",
       "      <td>0.011136</td>\n",
       "      <td>0.012605</td>\n",
       "      <td>0.011275</td>\n",
       "      <td>0.010428</td>\n",
       "      <td>0.010090</td>\n",
       "      <td>0.009396</td>\n",
       "      <td>0.011804</td>\n",
       "      <td>0.011435</td>\n",
       "      <td>0.010537</td>\n",
       "      <td>0.015787</td>\n",
       "    </tr>\n",
       "    <tr>\n",
       "      <th>max_n_10_6</th>\n",
       "      <td>0.011414</td>\n",
       "      <td>0.013455</td>\n",
       "      <td>0.011890</td>\n",
       "      <td>0.011251</td>\n",
       "      <td>0.010813</td>\n",
       "      <td>0.010522</td>\n",
       "      <td>0.012393</td>\n",
       "      <td>0.010487</td>\n",
       "      <td>0.011854</td>\n",
       "      <td>0.010674</td>\n",
       "    </tr>\n",
       "    <tr>\n",
       "      <th>max_n_10_1</th>\n",
       "      <td>0.012196</td>\n",
       "      <td>0.010322</td>\n",
       "      <td>0.013677</td>\n",
       "      <td>0.010239</td>\n",
       "      <td>0.012363</td>\n",
       "      <td>0.011249</td>\n",
       "      <td>0.015593</td>\n",
       "      <td>0.010966</td>\n",
       "      <td>0.013617</td>\n",
       "      <td>0.017649</td>\n",
       "    </tr>\n",
       "    <tr>\n",
       "      <th>max_n_10_5</th>\n",
       "      <td>0.012576</td>\n",
       "      <td>0.011374</td>\n",
       "      <td>0.011866</td>\n",
       "      <td>0.013412</td>\n",
       "      <td>0.011371</td>\n",
       "      <td>0.013201</td>\n",
       "      <td>0.013467</td>\n",
       "      <td>0.013000</td>\n",
       "      <td>0.010811</td>\n",
       "      <td>0.012171</td>\n",
       "    </tr>\n",
       "    <tr>\n",
       "      <th>max_n_10_9</th>\n",
       "      <td>0.009723</td>\n",
       "      <td>0.010917</td>\n",
       "      <td>0.010780</td>\n",
       "      <td>0.012433</td>\n",
       "      <td>0.011512</td>\n",
       "      <td>0.011201</td>\n",
       "      <td>0.012171</td>\n",
       "      <td>0.013001</td>\n",
       "      <td>0.009621</td>\n",
       "      <td>0.012377</td>\n",
       "    </tr>\n",
       "    <tr>\n",
       "      <th>max_n_10_8</th>\n",
       "      <td>0.011280</td>\n",
       "      <td>0.010921</td>\n",
       "      <td>0.012353</td>\n",
       "      <td>0.010549</td>\n",
       "      <td>0.012730</td>\n",
       "      <td>0.011806</td>\n",
       "      <td>0.010964</td>\n",
       "      <td>0.012804</td>\n",
       "      <td>0.011054</td>\n",
       "      <td>0.012464</td>\n",
       "    </tr>\n",
       "    <tr>\n",
       "      <th>max_n_10_0</th>\n",
       "      <td>0.012283</td>\n",
       "      <td>0.011317</td>\n",
       "      <td>0.011390</td>\n",
       "      <td>0.011137</td>\n",
       "      <td>0.011857</td>\n",
       "      <td>0.011034</td>\n",
       "      <td>0.012172</td>\n",
       "      <td>0.014126</td>\n",
       "      <td>0.014037</td>\n",
       "      <td>0.011007</td>\n",
       "    </tr>\n",
       "    <tr>\n",
       "      <th>max_n_10_2</th>\n",
       "      <td>0.011396</td>\n",
       "      <td>0.011745</td>\n",
       "      <td>0.011511</td>\n",
       "      <td>0.011230</td>\n",
       "      <td>0.012271</td>\n",
       "      <td>0.011496</td>\n",
       "      <td>0.012647</td>\n",
       "      <td>0.013046</td>\n",
       "      <td>0.011651</td>\n",
       "      <td>0.013885</td>\n",
       "    </tr>\n",
       "    <tr>\n",
       "      <th>max_n_10_4</th>\n",
       "      <td>0.012649</td>\n",
       "      <td>0.014217</td>\n",
       "      <td>0.011660</td>\n",
       "      <td>0.013141</td>\n",
       "      <td>0.010930</td>\n",
       "      <td>0.012504</td>\n",
       "      <td>0.013036</td>\n",
       "      <td>0.011021</td>\n",
       "      <td>0.010688</td>\n",
       "      <td>0.011091</td>\n",
       "    </tr>\n",
       "  </tbody>\n",
       "</table>\n",
       "</div>"
      ],
      "text/plain": [
       "            max_n_10_7  max_n_10_3  max_n_10_6  max_n_10_1  max_n_10_5  \\\n",
       "max_n_10_7    0.009480    0.011935    0.011134    0.010679    0.012364   \n",
       "max_n_10_3    0.011136    0.012605    0.011275    0.010428    0.010090   \n",
       "max_n_10_6    0.011414    0.013455    0.011890    0.011251    0.010813   \n",
       "max_n_10_1    0.012196    0.010322    0.013677    0.010239    0.012363   \n",
       "max_n_10_5    0.012576    0.011374    0.011866    0.013412    0.011371   \n",
       "max_n_10_9    0.009723    0.010917    0.010780    0.012433    0.011512   \n",
       "max_n_10_8    0.011280    0.010921    0.012353    0.010549    0.012730   \n",
       "max_n_10_0    0.012283    0.011317    0.011390    0.011137    0.011857   \n",
       "max_n_10_2    0.011396    0.011745    0.011511    0.011230    0.012271   \n",
       "max_n_10_4    0.012649    0.014217    0.011660    0.013141    0.010930   \n",
       "\n",
       "            max_n_10_9  max_n_10_8  max_n_10_0  max_n_10_2  max_n_10_4  \n",
       "max_n_10_7    0.012114    0.012760    0.011483    0.011987    0.010828  \n",
       "max_n_10_3    0.009396    0.011804    0.011435    0.010537    0.015787  \n",
       "max_n_10_6    0.010522    0.012393    0.010487    0.011854    0.010674  \n",
       "max_n_10_1    0.011249    0.015593    0.010966    0.013617    0.017649  \n",
       "max_n_10_5    0.013201    0.013467    0.013000    0.010811    0.012171  \n",
       "max_n_10_9    0.011201    0.012171    0.013001    0.009621    0.012377  \n",
       "max_n_10_8    0.011806    0.010964    0.012804    0.011054    0.012464  \n",
       "max_n_10_0    0.011034    0.012172    0.014126    0.014037    0.011007  \n",
       "max_n_10_2    0.011496    0.012647    0.013046    0.011651    0.013885  \n",
       "max_n_10_4    0.012504    0.013036    0.011021    0.010688    0.011091  "
      ]
     },
     "execution_count": 65,
     "metadata": {},
     "output_type": "execute_result"
    }
   ],
   "source": [
    "a"
   ]
  },
  {
   "cell_type": "code",
   "execution_count": 145,
   "metadata": {},
   "outputs": [],
   "source": [
    "time_limit=np.zeros((10,10))"
   ]
  },
  {
   "cell_type": "code",
   "execution_count": 146,
   "metadata": {},
   "outputs": [],
   "source": [
    "time_limit[0][0] = True"
   ]
  },
  {
   "cell_type": "code",
   "execution_count": 149,
   "metadata": {},
   "outputs": [
    {
     "data": {
      "text/plain": [
       "False"
      ]
     },
     "execution_count": 149,
     "metadata": {},
     "output_type": "execute_result"
    }
   ],
   "source": [
    "time_limit[1][0] == True"
   ]
  },
  {
   "cell_type": "code",
   "execution_count": null,
   "metadata": {},
   "outputs": [],
   "source": [
    "for i in range(4):\n",
    "    for j in range(4):\n",
    "        print(i)\n",
    "        print(j)\n",
    "        if i == 2:\n",
    "            print(\"i is 2\")\n",
    "            break\n",
    "            break"
   ]
  },
  {
   "cell_type": "code",
   "execution_count": null,
   "metadata": {},
   "outputs": [],
   "source": [
    "import signal\n",
    "\n",
    "def long_funtion_call():\n",
    "    #print(\"hello\")\n",
    "    while True:\n",
    "        i = 0\n",
    "        print(i)\n",
    "        i +=1\n",
    "\n",
    "def signal_handler(signum, frame):\n",
    "    raise Exception(\"Timed out!\")\n",
    "\n",
    "signal.signal(signal.SIGALRM, signal_handler)\n",
    "signal.alarm(5)   # Ten seconds\n",
    "\n",
    "try:\n",
    "    long_funtion_call()\n",
    "    signal.alarm(0)\n",
    "except Exception as msg:\n",
    "    print(\"Timed out!\")\n"
   ]
  },
  {
   "cell_type": "code",
   "execution_count": null,
   "metadata": {},
   "outputs": [],
   "source": []
  },
  {
   "cell_type": "code",
   "execution_count": null,
   "metadata": {},
   "outputs": [],
   "source": [
    "fig = plt.figure(figsize =(10, 7))\n",
    " \n",
    "# Creating plot\n",
    "plt.boxplot(ratios)\n",
    " \n",
    "# show plot\n",
    "plt.show()"
   ]
  },
  {
   "cell_type": "code",
   "execution_count": 22,
   "metadata": {},
   "outputs": [
    {
     "data": {
      "text/plain": [
       "[Text(1, 0, 'ABC'), Text(2, 0, 'DEF')]"
      ]
     },
     "execution_count": 22,
     "metadata": {},
     "output_type": "execute_result"
    },
    {
     "data": {
      "image/png": "[encoded data removed]",
      "text/plain": [
       "<Figure size 432x288 with 1 Axes>"
      ]
     },
     "metadata": {
      "needs_background": "light"
     },
     "output_type": "display_data"
    }
   ],
   "source": [
    "my_dict = {'ABC': [34.54, 34.345, 34.761], 'DEF': [34.541, 34.748, 34.482]}\n",
    "\n",
    "fig, ax = plt.subplots()\n",
    "ax.boxplot(my_dict.values())\n",
    "ax.set_xticklabels(my_dict.keys())"
   ]
  },
  {
   "cell_type": "code",
   "execution_count": 23,
   "metadata": {},
   "outputs": [],
   "source": [
    "a = pd.read_csv(r'/home/jana/Documents/BIONETs/Code/tree_match_approx_validator/final_results_data/results/scalability_approx/20_results_4-APPROX_Mar_29_2022-11_07/df_times_4-APPROX.csv', index_col=0)"
   ]
  },
  {
   "cell_type": "code",
   "execution_count": 40,
   "metadata": {},
   "outputs": [],
   "source": [
    "a_np = a.to_numpy()"
   ]
  },
  {
   "cell_type": "code",
   "execution_count": 43,
   "metadata": {},
   "outputs": [],
   "source": [
    "block_times = a_np[a_np>0]\n"
   ]
  },
  {
   "cell_type": "code",
   "execution_count": 48,
   "metadata": {},
   "outputs": [
    {
     "data": {
      "text/plain": [
       "10"
      ]
     },
     "execution_count": 48,
     "metadata": {},
     "output_type": "execute_result"
    }
   ],
   "source": [
    "block_times.size"
   ]
  },
  {
   "cell_type": "code",
   "execution_count": 5,
   "metadata": {},
   "outputs": [],
   "source": [
    "algorithm_small = 'approx'\n",
    "algorithm = \"4-APPROX\"\n",
    "max_n = 20\n",
    "path = \"/home/jana/Documents/BIONETs/Code/tree_match_approx_validator/final_results_data/results/scalability_\" + algorithm_small + \"/\" + str(max_n) + \"_results_\" + algorithm + \"_Mar_29_2022-11_07/df_times_\" + algorithm + \".csv\""
   ]
  },
  {
   "cell_type": "code",
   "execution_count": 10,
   "metadata": {},
   "outputs": [],
   "source": [
    "\n",
    "\n",
    "def get_times_dict(algorithm, algorithm_small):\n",
    "    times_dict = {}\n",
    "    for max_n in [20,40]:\n",
    "        path = \"/home/jana/Documents/BIONETs/Code/tree_match_approx_validator/final_results_data/results/scalability_\" + algorithm_small + \"/\" + str(max_n) + \"_results_\" + algorithm + \"_Mar_30_2022-22_58/df_times_\" + algorithm + \".csv\"\n",
    "        df = pd.read_csv(path, index_col=0)\n",
    "        df_np = df.to_numpy()\n",
    "        block_times = df_np[df_np>0]\n",
    "        times_dict[str(max_n)] = block_times\n",
    "    return times_dict"
   ]
  },
  {
   "cell_type": "code",
   "execution_count": 11,
   "metadata": {},
   "outputs": [],
   "source": [
    "algorithm_small = 'gurobi'\n",
    "algorithm = \"GUROBI\"\n",
    "times_dict = get_times_dict(algorithm, algorithm_small)\n"
   ]
  },
  {
   "cell_type": "code",
   "execution_count": 12,
   "metadata": {},
   "outputs": [
    {
     "data": {
      "image/png": "[encoded data removed]",
      "text/plain": [
       "<Figure size 432x288 with 1 Axes>"
      ]
     },
     "metadata": {
      "needs_background": "light"
     },
     "output_type": "display_data"
    }
   ],
   "source": [
    "fig, ax = plt.subplots()\n",
    "fig.suptitle(algorithm)\n",
    "ax.boxplot(times_dict.values())\n",
    "ax.set_xticklabels(times_dict.keys())\n",
    "plt.show()"
   ]
  },
  {
   "cell_type": "code",
   "execution_count": null,
   "metadata": {},
   "outputs": [],
   "source": []
  },
  {
   "cell_type": "code",
   "execution_count": 53,
   "metadata": {},
   "outputs": [],
   "source": []
  },
  {
   "cell_type": "code",
   "execution_count": 54,
   "metadata": {},
   "outputs": [],
   "source": []
  },
  {
   "cell_type": "code",
   "execution_count": null,
   "metadata": {},
   "outputs": [],
   "source": []
  },
  {
   "cell_type": "code",
   "execution_count": null,
   "metadata": {},
   "outputs": [],
   "source": []
  }
 ],
 "metadata": {
  "interpreter": {
   "hash": "4862d528bf816ef908eb0bb3ad51732bf6298ed116c9b5b551b80ecc2d3623f7"
  },
  "kernelspec": {
   "display_name": "Python 3.8.8 64-bit ('base': conda)",
   "language": "python",
   "name": "python3"
  },
  "language_info": {
   "codemirror_mode": {
    "name": "ipython",
    "version": 3
   },
   "file_extension": ".py",
   "mimetype": "text/x-python",
   "name": "python",
   "nbconvert_exporter": "python",
   "pygments_lexer": "ipython3",
   "version": "3.8.8"
  },
  "orig_nbformat": 4
 },
 "nbformat": 4,
 "nbformat_minor": 2
}
