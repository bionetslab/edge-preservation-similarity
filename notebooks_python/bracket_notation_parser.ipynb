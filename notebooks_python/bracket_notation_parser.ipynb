{
 "cells": [
  {
   "cell_type": "code",
   "execution_count": 5,
   "id": "68566120",
   "metadata": {},
   "outputs": [],
   "source": [
    "def read_tree(path):\n",
    "    with open(path) as fp:\n",
    "        tree_string = fp.readline().strip()\n",
    "    return tree_string"
   ]
  },
  {
   "cell_type": "code",
   "execution_count": null,
   "id": "8f2e7ae1",
   "metadata": {},
   "outputs": [],
   "source": [
    "def parse_tree(nodes, edges, tree_string, num_nodes):\n",
    "    node_id = num_nodes\n",
    "    nodes.append({'id': node_id, 'label': tree_string[1]})\n",
    "    num_nodes += 1\n",
    "    tree_string = tree_string[2:-1]\n",
    "    start = 0\n",
    "    num_open = 0\n",
    "    for i in range(len(tree_string)):\n",
    "        if tree_string[i] == '{':\n",
    "            num_open += 1\n",
    "        elif tree_string[i] == '}':\n",
    "            num_open -= 1\n",
    "        if num_open == 0:\n",
    "            edges.append((node_id, num_nodes))\n",
    "            num_nodes = parse_tree(nodes, edges, tree_string[start:i+1], num_nodes)\n",
    "            start = i+1\n",
    "    return num_nodes"
   ]
  },
  {
   "cell_type": "code",
   "execution_count": 32,
   "id": "bb6fd301",
   "metadata": {},
   "outputs": [],
   "source": [
    "def bracket_to_gml(input_path, output_path):\n",
    "    tree_string = read_tree(input_path)\n",
    "    nodes = []\n",
    "    edges = []\n",
    "    _ = parse_tree(nodes, edges, tree_string, 0)\n",
    "    with open(output_path, 'w') as fp:\n",
    "        fp.write('graph [\\n')\n",
    "        for node in nodes:\n",
    "            fp.write(f'  node [\\n    id {node[\"id\"]}\\n    label \"{node[\"label\"]}\"\\n  ]\\n')\n",
    "        for edge in edges:\n",
    "            fp.write(f'  edge [\\n    source {edge[0]}\\n    target {edge[1]}\\n  ]\\n')\n",
    "        fp.write(']\\n')\n"
   ]
  },
  {
   "cell_type": "code",
   "execution_count": 33,
   "id": "0d917e2c",
   "metadata": {},
   "outputs": [],
   "source": []
  },
  {
   "cell_type": "code",
   "execution_count": null,
   "id": "43dbd58e",
   "metadata": {},
   "outputs": [],
   "source": [
    "#test bracket to gml parser\n",
    "import os\n",
    "\n",
    "path=\"/home/jana/Documents/BIONETs/Code/tree_match-master/tree_match-master/data_wang_jana/data_wang\"\n",
    "\n",
    "outpath=\"/home/jana/Documents/BIONETs/Code/tree_match-master/tree_match-master/data_wang_jana/data_wang_parsed\"\n",
    "\n",
    "list_dir=os.listdir(path)\n",
    "in_dir=[]\n",
    "out_dir=[]\n",
    "\n",
    "for dire in list_dir:\n",
    "     if not dire.startswith('.'):\n",
    "        os.mkdir(outpath+'/'+dire)\n",
    "\n",
    "        list_trees=os.listdir(path+'/'+dire)\n",
    "        for tree_file in list_trees:\n",
    "\n",
    "            if not tree_file.startswith('.'):\n",
    "                print(outpath+'/'+dire+'/'+tree_file)\n",
    "                bracket_to_gml(path+'/'+dire+'/'+tree_file,outpath+'/'+dire+'/'+tree_file)\n"
   ]
  },
  {
   "cell_type": "code",
   "execution_count": 1,
   "id": "e2f656eb",
   "metadata": {},
   "outputs": [],
   "source": []
  },
  {
   "cell_type": "code",
   "execution_count": 77,
   "id": "cc10daf9",
   "metadata": {},
   "outputs": [],
   "source": [
    "# gml to bracket parser\n",
    "\n",
    "import networkx as nx\n",
    "\n",
    "def node_to_bracket(tree, bracket_string, visited, node):\n",
    "    bracket_string += '{' + str(nx.get_node_attributes(H, 'lbl')[node])\n",
    "    visited.append(node)\n",
    "    for child in tree.successors(node):\n",
    "        if not child in visited:\n",
    "            #print(\"now visiting node: \", child)\n",
    "            bracket_string = node_to_bracket(tree, bracket_string, visited, child)\n",
    "        #else:\n",
    "            #print(\"already visited node: \", child)\n",
    "    bracket_string += '}'\n",
    "    return bracket_string\n",
    "\n",
    "def tree_to_bracket(tree):\n",
    "    bracket_string = ''\n",
    "    visited = []\n",
    "    return node_to_bracket(tree, bracket_string, visited, 0)"
   ]
  },
  {
   "cell_type": "code",
   "execution_count": null,
   "id": "43aae47f",
   "metadata": {},
   "outputs": [],
   "source": []
  },
  {
   "cell_type": "code",
   "execution_count": 80,
   "id": "d1f467f2",
   "metadata": {},
   "outputs": [],
   "source": [
    "# test gml to bracket notation parser\n",
    "H = nx.read_gml(\"/home/jana/Documents/BIONETs/Code/tree_match_approx_validator/all_other_data/scalability_trees/tree_blocks_gml/60/60_1/1.gml\", label = 'id')\n",
    "bracket = tree_to_bracket(H)\n",
    "a = '{V{G{G{A{A{G{G{U{C{A{A{A{G{G{G}}}}}}}}}}}}}{C{G{G{G}{C{C{G{G}}{C{G{C}}{G{C{G{A{G}}}}{A{C{G{U{C{G{C{G}}}{G{A}}}{A{C}}}{C{G}}}{G{U}}}{U{A{A{A{C{U{A{A{G{U{G{A{C}}}}}}}}}}}}}}}}}{C{G}}}}}}}}'"
   ]
  },
  {
   "cell_type": "code",
   "execution_count": null,
   "id": "0adaf4ae",
   "metadata": {},
   "outputs": [],
   "source": []
  },
  {
   "cell_type": "code",
   "execution_count": null,
   "id": "f2cd80c6",
   "metadata": {},
   "outputs": [],
   "source": [
    "#transform all random data from gml to bracket notation and save\n",
    "\n",
    "import os\n",
    "\n",
    "path = \"/home/jana/Documents/BIONETs/Code/tree_match_approx_validator/all_other_data/scalability_trees/tree_blocks_bracket\"\n",
    "\n",
    "listdir=os.listdir(path)\n",
    "for dire in listdir:\n",
    "    print('big_dire: ', dire)\n",
    "    block_dir= path + '/' + dire\n",
    "    liste=os.listdir(block_dir)\n",
    "    count = ''\n",
    "    for d in liste:\n",
    "        print(count)\n",
    "        #import gml graph\n",
    "        count = str(d)[-1]\n",
    "        file_path = block_dir + \"/\" + str(d) + \"/1.gml\"\n",
    "        H = nx.read_gml(file_path, label = 'id')\n",
    "        \n",
    "        #transform to bracket\n",
    "        bracket = tree_to_bracket(H)\n",
    "        print(\"bracket: \", bracket)\n",
    "        #safe in txt\n",
    "        f = open(block_dir + \"/\" + str(d) + \"/1.txt\",\"a\")\n",
    "        f.write(bracket)"
   ]
  }
 ],
 "metadata": {
  "kernelspec": {
   "display_name": "Python 3",
   "language": "python",
   "name": "python3"
  },
  "language_info": {
   "codemirror_mode": {
    "name": "ipython",
    "version": 3
   },
   "file_extension": ".py",
   "mimetype": "text/x-python",
   "name": "python",
   "nbconvert_exporter": "python",
   "pygments_lexer": "ipython3",
   "version": "3.8.8"
  }
 },
 "nbformat": 4,
 "nbformat_minor": 5
}
